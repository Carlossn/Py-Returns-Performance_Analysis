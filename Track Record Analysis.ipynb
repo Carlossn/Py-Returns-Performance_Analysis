{
 "cells": [
  {
   "cell_type": "markdown",
   "metadata": {},
   "source": [
    "# Strategy Performance Analysis"
   ]
  },
  {
   "cell_type": "code",
   "execution_count": null,
   "metadata": {},
   "outputs": [],
   "source": []
  },
  {
   "cell_type": "code",
   "execution_count": 1,
   "metadata": {},
   "outputs": [
    {
     "data": {
      "text/html": [
       "<script> code_show=true; \n",
       "function code_toggle() {\n",
       " if (code_show){\n",
       " $('div.input').hide();\n",
       " } else {\n",
       " $('div.input').show();\n",
       " }\n",
       " code_show = !code_show\n",
       "} \n",
       "$( document ).ready(code_toggle);\n",
       "</script>\n",
       "\n",
       "<a href=\"javascript:code_toggle()\">see notebook code clicking here</a>."
      ],
      "text/plain": [
       "<IPython.core.display.HTML object>"
      ]
     },
     "metadata": {},
     "output_type": "display_data"
    }
   ],
   "source": [
    "from IPython.core.display import display, HTML\n",
    "\n",
    "display(HTML('''<script> code_show=true; \n",
    "function code_toggle() {\n",
    " if (code_show){\n",
    " $('div.input').hide();\n",
    " } else {\n",
    " $('div.input').show();\n",
    " }\n",
    " code_show = !code_show\n",
    "} \n",
    "$( document ).ready(code_toggle);\n",
    "</script>\n",
    "\n",
    "<a href=\"javascript:code_toggle()\">see notebook code clicking here</a>.'''))"
   ]
  },
  {
   "cell_type": "code",
   "execution_count": 2,
   "metadata": {},
   "outputs": [
    {
     "data": {
      "text/plain": [
       "['F-F_Research_Data_Factors',\n",
       " 'F-F_Research_Data_Factors_weekly',\n",
       " 'F-F_Research_Data_Factors_daily',\n",
       " 'F-F_Research_Data_5_Factors_2x3',\n",
       " 'F-F_Research_Data_5_Factors_2x3_daily',\n",
       " 'Portfolios_Formed_on_ME',\n",
       " 'Portfolios_Formed_on_ME_Wout_Div',\n",
       " 'Portfolios_Formed_on_ME_Daily',\n",
       " 'Portfolios_Formed_on_BE-ME',\n",
       " 'Portfolios_Formed_on_BE-ME_Wout_Div',\n",
       " 'Portfolios_Formed_on_BE-ME_Daily',\n",
       " 'Portfolios_Formed_on_OP',\n",
       " 'Portfolios_Formed_on_OP_Wout_Div',\n",
       " 'Portfolios_Formed_on_INV',\n",
       " 'Portfolios_Formed_on_INV_Wout_Div',\n",
       " '6_Portfolios_2x3',\n",
       " '6_Portfolios_2x3_Wout_Div',\n",
       " '6_Portfolios_2x3_weekly',\n",
       " '6_Portfolios_2x3_daily',\n",
       " '25_Portfolios_5x5',\n",
       " '25_Portfolios_5x5_Wout_Div',\n",
       " '25_Portfolios_5x5_Daily',\n",
       " '100_Portfolios_10x10',\n",
       " '100_Portfolios_10x10_Wout_Div',\n",
       " '100_Portfolios_10x10_Daily',\n",
       " '6_Portfolios_ME_OP_2x3',\n",
       " '6_Portfolios_ME_OP_2x3_Wout_Div',\n",
       " '6_Portfolios_ME_OP_2x3_daily',\n",
       " '25_Portfolios_ME_OP_5x5',\n",
       " '25_Portfolios_ME_OP_5x5_Wout_Div',\n",
       " '25_Portfolios_ME_OP_5x5_daily',\n",
       " '100_Portfolios_ME_OP_10x10',\n",
       " '100_Portfolios_10x10_ME_OP_Wout_Div',\n",
       " '100_Portfolios_ME_OP_10x10_daily',\n",
       " '6_Portfolios_ME_INV_2x3',\n",
       " '6_Portfolios_ME_INV_2x3_Wout_Div',\n",
       " '6_Portfolios_ME_INV_2x3_daily',\n",
       " '25_Portfolios_ME_INV_5x5',\n",
       " '25_Portfolios_ME_INV_5x5_Wout_Div',\n",
       " '25_Portfolios_ME_INV_5x5_daily',\n",
       " '100_Portfolios_ME_INV_10x10',\n",
       " '100_Portfolios_10x10_ME_INV_Wout_Div',\n",
       " '100_Portfolios_ME_INV_10x10_daily',\n",
       " '25_Portfolios_BEME_OP_5x5',\n",
       " '25_Portfolios_BEME_OP_5x5_Wout_Div',\n",
       " '25_Portfolios_BEME_OP_5x5_daily',\n",
       " '25_Portfolios_BEME_INV_5x5',\n",
       " '25_Portfolios_BEME_INV_5x5_Wout_Div',\n",
       " '25_Portfolios_BEME_INV_5x5_daily',\n",
       " '25_Portfolios_OP_INV_5x5',\n",
       " '25_Portfolios_OP_INV_5x5_Wout_Div',\n",
       " '25_Portfolios_OP_INV_5x5_daily',\n",
       " '32_Portfolios_ME_BEME_OP_2x4x4',\n",
       " '32_Portfolios_ME_BEME_OP_2x4x4_Wout_Div',\n",
       " '32_Portfolios_ME_BEME_INV_2x4x4',\n",
       " '32_Portfolios_ME_BEME_INV_2x4x4_Wout_Div',\n",
       " '32_Portfolios_ME_OP_INV_2x4x4',\n",
       " '32_Portfolios_ME_OP_INV_2x4x4_Wout_Div',\n",
       " 'Portfolios_Formed_on_E-P',\n",
       " 'Portfolios_Formed_on_E-P_Wout_Div',\n",
       " 'Portfolios_Formed_on_CF-P',\n",
       " 'Portfolios_Formed_on_CF-P_Wout_Div',\n",
       " 'Portfolios_Formed_on_D-P',\n",
       " 'Portfolios_Formed_on_D-P_Wout_Div',\n",
       " '6_Portfolios_ME_EP_2x3',\n",
       " '6_Portfolios_ME_EP_2x3_Wout_Div',\n",
       " '6_Portfolios_ME_CFP_2x3',\n",
       " '6_Portfolios_ME_CFP_2x3_Wout_Div',\n",
       " '6_Portfolios_ME_DP_2x3',\n",
       " '6_Portfolios_ME_DP_2x3_Wout_Div',\n",
       " 'F-F_Momentum_Factor',\n",
       " 'F-F_Momentum_Factor_daily',\n",
       " '6_Portfolios_ME_Prior_12_2',\n",
       " '6_Portfolios_ME_Prior_12_2_Daily',\n",
       " '25_Portfolios_ME_Prior_12_2',\n",
       " '25_Portfolios_ME_Prior_12_2_Daily',\n",
       " '10_Portfolios_Prior_12_2',\n",
       " '10_Portfolios_Prior_12_2_Daily',\n",
       " 'F-F_ST_Reversal_Factor',\n",
       " 'F-F_ST_Reversal_Factor_daily',\n",
       " '6_Portfolios_ME_Prior_1_0',\n",
       " '6_Portfolios_ME_Prior_1_0_Daily',\n",
       " '25_Portfolios_ME_Prior_1_0',\n",
       " '25_Portfolios_ME_Prior_1_0_Daily',\n",
       " '10_Portfolios_Prior_1_0',\n",
       " '10_Portfolios_Prior_1_0_Daily',\n",
       " 'F-F_LT_Reversal_Factor',\n",
       " 'F-F_LT_Reversal_Factor_daily',\n",
       " '6_Portfolios_ME_Prior_60_13',\n",
       " '6_Portfolios_ME_Prior_60_13_Daily',\n",
       " '25_Portfolios_ME_Prior_60_13',\n",
       " '25_Portfolios_ME_Prior_60_13_Daily',\n",
       " '10_Portfolios_Prior_60_13',\n",
       " '10_Portfolios_Prior_60_13_Daily',\n",
       " 'Portfolios_Formed_on_AC',\n",
       " '25_Portfolios_ME_AC_5x5',\n",
       " 'Portfolios_Formed_on_BETA',\n",
       " '25_Portfolios_ME_BETA_5x5',\n",
       " 'Portfolios_Formed_on_NI',\n",
       " '25_Portfolios_ME_NI_5x5',\n",
       " 'Portfolios_Formed_on_VAR',\n",
       " '25_Portfolios_ME_VAR_5x5',\n",
       " 'Portfolios_Formed_on_RESVAR',\n",
       " '25_Portfolios_ME_RESVAR_5x5',\n",
       " '5_Industry_Portfolios',\n",
       " '5_Industry_Portfolios_Wout_Div',\n",
       " '5_Industry_Portfolios_daily',\n",
       " '10_Industry_Portfolios',\n",
       " '10_Industry_Portfolios_Wout_Div',\n",
       " '10_Industry_Portfolios_daily',\n",
       " '12_Industry_Portfolios',\n",
       " '12_Industry_Portfolios_Wout_Div',\n",
       " '12_Industry_Portfolios_daily',\n",
       " '17_Industry_Portfolios',\n",
       " '17_Industry_Portfolios_Wout_Div',\n",
       " '17_Industry_Portfolios_daily',\n",
       " '30_Industry_Portfolios',\n",
       " '30_Industry_Portfolios_Wout_Div',\n",
       " '30_Industry_Portfolios_daily',\n",
       " '38_Industry_Portfolios',\n",
       " '38_Industry_Portfolios_Wout_Div',\n",
       " '38_Industry_Portfolios_daily',\n",
       " '48_Industry_Portfolios',\n",
       " '48_Industry_Portfolios_Wout_Div',\n",
       " '48_Industry_Portfolios_daily',\n",
       " '49_Industry_Portfolios',\n",
       " '49_Industry_Portfolios_Wout_Div',\n",
       " '49_Industry_Portfolios_daily',\n",
       " 'ME_Breakpoints',\n",
       " 'BE-ME_Breakpoints',\n",
       " 'OP_Breakpoints',\n",
       " 'INV_Breakpoints',\n",
       " 'E-P_Breakpoints',\n",
       " 'CF-P_Breakpoints',\n",
       " 'D-P_Breakpoints',\n",
       " 'Prior_2-12_Breakpoints',\n",
       " 'Global_3_Factors',\n",
       " 'Global_3_Factors_Daily',\n",
       " 'Global_ex_US_3_Factors',\n",
       " 'Global_ex_US_3_Factors_Daily',\n",
       " 'Europe_3_Factors',\n",
       " 'Europe_3_Factors_Daily',\n",
       " 'Japan_3_Factors',\n",
       " 'Japan_3_Factors_Daily',\n",
       " 'Asia_Pacific_ex_Japan_3_Factors',\n",
       " 'Asia_Pacific_ex_Japan_3_Factors_Daily',\n",
       " 'North_America_3_Factors',\n",
       " 'North_America_3_Factors_Daily',\n",
       " 'Global_5_Factors',\n",
       " 'Global_5_Factors_Daily',\n",
       " 'Global_ex_US_5_Factors',\n",
       " 'Global_ex_US_5_Factors_Daily',\n",
       " 'Europe_5_Factors',\n",
       " 'Europe_5_Factors_Daily',\n",
       " 'Japan_5_Factors',\n",
       " 'Japan_5_Factors_Daily',\n",
       " 'Asia_Pacific_ex_Japan_5_Factors',\n",
       " 'Asia_Pacific_ex_Japan_5_Factors_Daily',\n",
       " 'North_America_5_Factors',\n",
       " 'North_America_5_Factors_Daily',\n",
       " 'Global_Mom_Factor',\n",
       " 'Global_Mom_Factor_Daily',\n",
       " 'Global_ex_US_Mom_Factor',\n",
       " 'Global_ex_US_Mom_Factor_Daily',\n",
       " 'Europe_Mom_Factor',\n",
       " 'Europe_Mom_Factor_Daily',\n",
       " 'Japan_Mom_Factor',\n",
       " 'Japan_Mom_Factor_Daily',\n",
       " 'Asia_Pacific_ex_Japan_MOM_Factor',\n",
       " 'Asia_Pacific_ex_Japan_MOM_Factor_Daily',\n",
       " 'North_America_Mom_Factor',\n",
       " 'North_America_Mom_Factor_Daily',\n",
       " 'Global_6_Portfolios_ME_BE-ME',\n",
       " 'Global_6_Portfolios_ME_BE-ME_daily',\n",
       " 'Global_ex_US_6_Portfolios_ME_BE-ME',\n",
       " 'Global_ex_US_6_Portfolios_ME_BE-ME_daily',\n",
       " 'Europe_6_Portfolios_ME_BE-ME',\n",
       " 'Europe_6_Portfolios_ME_BE-ME_daily',\n",
       " 'Japan_6_Portfolios_ME_BE-ME',\n",
       " 'Japan_6_Portfolios_ME_BE-ME_daily',\n",
       " 'Asia_Pacific_ex_Japan_6_Portfolios_ME_BE-ME',\n",
       " 'Asia_Pacific_ex_Japan_6_Portfolios_ME_BE-ME_daily',\n",
       " 'North_America_6_Portfolios_ME_BE-ME',\n",
       " 'North_America_6_Portfolios_ME_BE-ME_daily',\n",
       " 'Global_25_Portfolios_ME_BE-ME',\n",
       " 'Global_25_Portfolios_ME_BE-ME_daily',\n",
       " 'Global_ex_US_25_Portfolios_ME_BE-ME',\n",
       " 'Global_ex_US_25_Portfolios_ME_BE-ME_daily',\n",
       " 'Europe_25_Portfolios_ME_BE-ME',\n",
       " 'Europe_25_Portfolios_ME_BE-ME_daily',\n",
       " 'Japan_25_Portfolios_ME_BE-ME',\n",
       " 'Japan_25_Portfolios_ME_BE-ME_daily',\n",
       " 'Asia_Pacific_ex_Japan_25_Portfolios_ME_BE-ME',\n",
       " 'Asia_Pacific_ex_Japan_25_Portfolios_ME_BE-ME_daily',\n",
       " 'North_America_25_Portfolios_ME_BE-ME',\n",
       " 'North_America_25_Portfolios_ME_BE-ME_daily',\n",
       " 'Global_6_Portfolios_ME_OP',\n",
       " 'Global_6_Portfolios_ME_OP_Daily',\n",
       " 'Global_ex_US_6_Portfolios_ME_OP',\n",
       " 'Global_ex_US_6_Portfolios_ME_OP_Daily',\n",
       " 'Europe_6_Portfolios_ME_OP',\n",
       " 'Europe_6_Portfolios_ME_OP_Daily',\n",
       " 'Japan_6_Portfolios_ME_OP',\n",
       " 'Japan_6_Portfolios_ME_OP_Daily',\n",
       " 'Asia_Pacific_ex_Japan_6_Portfolios_ME_OP',\n",
       " 'Asia_Pacific_ex_Japan_6_Portfolios_ME_OP_Daily',\n",
       " 'North_America_6_Portfolios_ME_OP',\n",
       " 'North_America_6_Portfolios_ME_OP_Daily',\n",
       " 'Global_25_Portfolios_ME_OP',\n",
       " 'Global_25_Portfolios_ME_OP_Daily',\n",
       " 'Global_ex_US_25_Portfolios_ME_OP',\n",
       " 'Global_ex_US_25_Portfolios_ME_OP_Daily',\n",
       " 'Europe_25_Portfolios_ME_OP',\n",
       " 'Europe_25_Portfolios_ME_OP_Daily',\n",
       " 'Japan_25_Portfolios_ME_OP',\n",
       " 'Japan_25_Portfolios_ME_OP_Daily',\n",
       " 'Asia_Pacific_ex_Japan_25_Portfolios_ME_OP',\n",
       " 'Asia_Pacific_ex_Japan_25_Portfolios_ME_OP_Daily',\n",
       " 'North_America_25_Portfolios_ME_OP',\n",
       " 'North_America_25_Portfolios_ME_OP_Daily',\n",
       " 'Global_6_Portfolios_ME_INV',\n",
       " 'Global_6_Portfolios_ME_INV_Daily',\n",
       " 'Global_ex_US_6_Portfolios_ME_INV',\n",
       " 'Global_ex_US_6_Portfolios_ME_INV_Daily',\n",
       " 'Europe_6_Portfolios_ME_INV',\n",
       " 'Europe_6_Portfolios_ME_INV_Daily',\n",
       " 'Japan_6_Portfolios_ME_INV',\n",
       " 'Japan_6_Portfolios_ME_INV_Daily',\n",
       " 'Asia_Pacific_ex_Japan_6_Portfolios_ME_INV',\n",
       " 'Asia_Pacific_ex_Japan_6_Portfolios_ME_INV_Daily',\n",
       " 'North_America_6_Portfolios_ME_INV',\n",
       " 'North_America_6_Portfolios_ME_INV_Daily',\n",
       " 'Global_25_Portfolios_ME_INV',\n",
       " 'Global_25_Portfolios_ME_INV_Daily',\n",
       " 'Global_ex_US_25_Portfolios_ME_INV',\n",
       " 'Global_ex_US_25_Portfolios_ME_INV_Daily',\n",
       " 'Europe_25_Portfolios_ME_INV',\n",
       " 'Europe_25_Portfolios_ME_INV_Daily',\n",
       " 'Japan_25_Portfolios_ME_INV',\n",
       " 'Japan_25_Portfolios_ME_INV_Daily',\n",
       " 'Asia_Pacific_ex_Japan_25_Portfolios_ME_INV',\n",
       " 'Asia_Pacific_ex_Japan_25_Portfolios_ME_INV_Daily',\n",
       " 'North_America_25_Portfolios_ME_INV',\n",
       " 'North_America_25_Portfolios_ME_INV_Daily',\n",
       " 'Global_6_Portfolios_ME_Prior_12_2',\n",
       " 'Global_6_Portfolios_ME_Prior_250_20_daily',\n",
       " 'Global_ex_US_6_Portfolios_ME_Prior_12_2',\n",
       " 'Global_ex_US_6_Portfolios_ME_Prior_250_20_daily',\n",
       " 'Europe_6_Portfolios_ME_Prior_12_2',\n",
       " 'Europe_6_Portfolios_ME_Prior_250_20_daily',\n",
       " 'Japan_6_Portfolios_ME_Prior_12_2',\n",
       " 'Japan_6_Portfolios_ME_Prior_250_20_daily',\n",
       " 'Asia_Pacific_ex_Japan_6_Portfolios_ME_Prior_12_2',\n",
       " 'Asia_Pacific_ex_Japan_6_Portfolios_ME_Prior_250_20_daily',\n",
       " 'North_America_6_Portfolios_ME_Prior_12_2',\n",
       " 'North_America_6_Portfolios_ME_Prior_250_20_daily',\n",
       " 'Global_25_Portfolios_ME_Prior_12_2',\n",
       " 'Global_25_Portfolios_ME_Prior_250_20_daily',\n",
       " 'Global_ex_US_25_Portfolios_ME_Prior_12_2',\n",
       " 'Global_ex_US_25_Portfolios_ME_Prior_250_20_daily',\n",
       " 'Europe_25_Portfolios_ME_Prior_12_2',\n",
       " 'Europe_25_Portfolios_ME_Prior_250_20_daily',\n",
       " 'Japan_25_Portfolios_ME_Prior_12_2',\n",
       " 'Japan_25_Portfolios_ME_Prior_250_20_daily',\n",
       " 'Asia_Pacific_ex_Japan_25_Portfolios_ME_Prior_12_2',\n",
       " 'Asia_Pacific_ex_Japan_25_Portfolios_ME_Prior_250_20_daily',\n",
       " 'North_America_25_Portfolios_ME_Prior_12_2',\n",
       " 'North_America_25_Portfolios_ME_Prior_250_20_daily',\n",
       " 'Global_32_Portfolios_ME_BE-ME_OP_2x4x4',\n",
       " 'Global_ex_US_32_Portfolios_ME_BE-ME_OP_2x4x4',\n",
       " 'Europe_32_Portfolios_ME_BE-ME_OP_2x4x4',\n",
       " 'Japan_32_Portfolios_ME_BE-ME_OP_2x4x4',\n",
       " 'Asia_Pacific_ex_Japan_32_Portfolios_ME_BE-ME_OP_2x4x4',\n",
       " 'North_America_32_Portfolios_ME_BE-ME_OP_2x4x4',\n",
       " 'Global_32_Portfolios_ME_BE-ME_INV(TA)_2x4x4',\n",
       " 'Global_ex_US_32_Portfolios_ME_BE-ME_INV(TA)_2x4x4',\n",
       " 'Europe_32_Portfolios_ME_BE-ME_INV(TA)_2x4x4',\n",
       " 'Japan_32_Portfolios_ME_BE-ME_INV(TA)_2x4x4',\n",
       " 'Asia_Pacific_ex_Japan_32_Portfolios_ME_BE-ME_INV(TA)_2x4x4',\n",
       " 'North_America_32_Portfolios_ME_BE-ME_INV(TA)_2x4x4',\n",
       " 'Global_32_Portfolios_ME_INV(TA)_OP_2x4x4',\n",
       " 'Global_ex_US_32_Portfolios_ME_INV(TA)_OP_2x4x4',\n",
       " 'Europe_32_Portfolios_ME_INV(TA)_OP_2x4x4',\n",
       " 'Japan_32_Portfolios_ME_INV(TA)_OP_2x4x4',\n",
       " 'Asia_Pacific_ex_Japan_32_Portfolios_ME_INV(TA)_OP_2x4x4',\n",
       " 'North_America_32_Portfolios_ME_INV(TA)_OP_2x4x4']"
      ]
     },
     "execution_count": 2,
     "metadata": {},
     "output_type": "execute_result"
    }
   ],
   "source": [
    "import pandas as pd\n",
    "from datetime import  datetime\n",
    "\n",
    "from pandas_datareader.famafrench import get_available_datasets\n",
    "import pandas_datareader.data as web\n",
    "\n",
    "get_available_datasets()\n",
    "# check data sets composition in: http://mba.tuck.dartmouth.edu/pages/faculty/ken.french/data_library.html"
   ]
  },
  {
   "cell_type": "code",
   "execution_count": 4,
   "metadata": {},
   "outputs": [
    {
     "data": {
      "text/html": [
       "<div>\n",
       "<style scoped>\n",
       "    .dataframe tbody tr th:only-of-type {\n",
       "        vertical-align: middle;\n",
       "    }\n",
       "\n",
       "    .dataframe tbody tr th {\n",
       "        vertical-align: top;\n",
       "    }\n",
       "\n",
       "    .dataframe thead th {\n",
       "        text-align: right;\n",
       "    }\n",
       "</style>\n",
       "<table border=\"1\" class=\"dataframe\">\n",
       "  <thead>\n",
       "    <tr style=\"text-align: right;\">\n",
       "      <th></th>\n",
       "      <th>Mkt-RF</th>\n",
       "      <th>SMB</th>\n",
       "      <th>HML</th>\n",
       "      <th>RMW</th>\n",
       "      <th>CMA</th>\n",
       "      <th>RF</th>\n",
       "      <th>Mom</th>\n",
       "    </tr>\n",
       "  </thead>\n",
       "  <tbody>\n",
       "    <tr>\n",
       "      <th>2011-08</th>\n",
       "      <td>-7.51</td>\n",
       "      <td>-0.52</td>\n",
       "      <td>-1.79</td>\n",
       "      <td>2.70</td>\n",
       "      <td>-0.78</td>\n",
       "      <td>0.01</td>\n",
       "      <td>-0.31</td>\n",
       "    </tr>\n",
       "    <tr>\n",
       "      <th>2011-09</th>\n",
       "      <td>-9.20</td>\n",
       "      <td>-1.07</td>\n",
       "      <td>0.82</td>\n",
       "      <td>1.99</td>\n",
       "      <td>0.81</td>\n",
       "      <td>0.00</td>\n",
       "      <td>-2.55</td>\n",
       "    </tr>\n",
       "    <tr>\n",
       "      <th>2011-10</th>\n",
       "      <td>10.01</td>\n",
       "      <td>-2.33</td>\n",
       "      <td>-1.90</td>\n",
       "      <td>-0.37</td>\n",
       "      <td>-0.91</td>\n",
       "      <td>0.00</td>\n",
       "      <td>-1.42</td>\n",
       "    </tr>\n",
       "    <tr>\n",
       "      <th>2011-11</th>\n",
       "      <td>-2.64</td>\n",
       "      <td>-1.02</td>\n",
       "      <td>-0.74</td>\n",
       "      <td>1.48</td>\n",
       "      <td>0.57</td>\n",
       "      <td>0.00</td>\n",
       "      <td>3.99</td>\n",
       "    </tr>\n",
       "    <tr>\n",
       "      <th>2011-12</th>\n",
       "      <td>-0.44</td>\n",
       "      <td>-0.30</td>\n",
       "      <td>1.89</td>\n",
       "      <td>0.11</td>\n",
       "      <td>1.42</td>\n",
       "      <td>0.00</td>\n",
       "      <td>1.94</td>\n",
       "    </tr>\n",
       "  </tbody>\n",
       "</table>\n",
       "</div>"
      ],
      "text/plain": [
       "         Mkt-RF   SMB   HML   RMW   CMA    RF  Mom   \n",
       "2011-08   -7.51 -0.52 -1.79  2.70 -0.78  0.01   -0.31\n",
       "2011-09   -9.20 -1.07  0.82  1.99  0.81  0.00   -2.55\n",
       "2011-10   10.01 -2.33 -1.90 -0.37 -0.91  0.00   -1.42\n",
       "2011-11   -2.64 -1.02 -0.74  1.48  0.57  0.00    3.99\n",
       "2011-12   -0.44 -0.30  1.89  0.11  1.42  0.00    1.94"
      ]
     },
     "execution_count": 4,
     "metadata": {},
     "output_type": "execute_result"
    }
   ],
   "source": [
    "# FACTORS DATA\n",
    "data = web.DataReader(\"Global_5_Factors\", \"famafrench\",start = datetime(2011, 8, 31), end = datetime(2016, 3, 31))\n",
    "data_df = data.values()[0]\n",
    "data_df.index.rename(None,inplace=True)\n",
    "data_df.index.to_timestamp(how='end')\n",
    "############################################\n",
    "# Mom Factor\n",
    "d_mom_df = web.DataReader(\"F-F_Momentum_Factor\", \"famafrench\",start = datetime(2011, 8, 31), end = datetime(2016, 3, 31)).values()[0]\n",
    "d_mom_df.index.rename(None,'ignore')\n",
    "############################################\n",
    "# Merge\n",
    "data_df = pd.merge(data_df,d_mom_df,how='inner',left_index=True,right_index=True)\n",
    "data_df.head()"
   ]
  },
  {
   "cell_type": "code",
   "execution_count": 9,
   "metadata": {},
   "outputs": [
    {
     "data": {
      "text/plain": [
       "pandas.core.indexes.period.PeriodIndex"
      ]
     },
     "execution_count": 9,
     "metadata": {},
     "output_type": "execute_result"
    }
   ],
   "source": [
    "#2) Import Track Record\n",
    "ff_import = pd.read_csv('track_record.csv')\n",
    "ff_import['Unnamed: 0']=data_df.index # problems with original index format. We can use this because we now dates are the same.\n",
    "ff_import.set_index('Unnamed: 0',inplace=True)\n",
    "ff_import.index.rename(None,inplace=True)\n",
    "ff_import.index.to_timestamp(how='end')\n",
    "type(ff_import.index)"
   ]
  },
  {
   "cell_type": "code",
   "execution_count": 133,
   "metadata": {},
   "outputs": [
    {
     "data": {
      "text/plain": [
       "Index([u'TR', u'Mkt-RF', u'SMB', u'HML', u'RMW', u'CMA', u'RF', u'Mom   '], dtype='object')"
      ]
     },
     "execution_count": 133,
     "metadata": {},
     "output_type": "execute_result"
    }
   ],
   "source": [
    "# 3) Merge FF and track record\n",
    "df = pd.merge(ff_import,data_df, how='inner',left_index=True,right_index=True)\n",
    "df.columns"
   ]
  },
  {
   "cell_type": "code",
   "execution_count": 134,
   "metadata": {},
   "outputs": [
    {
     "data": {
      "text/html": [
       "<div>\n",
       "<style scoped>\n",
       "    .dataframe tbody tr th:only-of-type {\n",
       "        vertical-align: middle;\n",
       "    }\n",
       "\n",
       "    .dataframe tbody tr th {\n",
       "        vertical-align: top;\n",
       "    }\n",
       "\n",
       "    .dataframe thead th {\n",
       "        text-align: right;\n",
       "    }\n",
       "</style>\n",
       "<table border=\"1\" class=\"dataframe\">\n",
       "  <thead>\n",
       "    <tr style=\"text-align: right;\">\n",
       "      <th></th>\n",
       "      <th>TR</th>\n",
       "      <th>Mkt-RF</th>\n",
       "      <th>SMB</th>\n",
       "      <th>HML</th>\n",
       "      <th>RMW</th>\n",
       "      <th>CMA</th>\n",
       "      <th>RF</th>\n",
       "      <th>Mom</th>\n",
       "    </tr>\n",
       "  </thead>\n",
       "  <tbody>\n",
       "    <tr>\n",
       "      <th>TR</th>\n",
       "      <td>1.000000</td>\n",
       "      <td>0.801910</td>\n",
       "      <td>-0.311482</td>\n",
       "      <td>-0.088517</td>\n",
       "      <td>-0.405059</td>\n",
       "      <td>-0.288433</td>\n",
       "      <td>-0.248617</td>\n",
       "      <td>-0.127605</td>\n",
       "    </tr>\n",
       "    <tr>\n",
       "      <th>Mkt-RF</th>\n",
       "      <td>0.801910</td>\n",
       "      <td>1.000000</td>\n",
       "      <td>-0.064590</td>\n",
       "      <td>0.079173</td>\n",
       "      <td>-0.546045</td>\n",
       "      <td>-0.307633</td>\n",
       "      <td>-0.100978</td>\n",
       "      <td>-0.337130</td>\n",
       "    </tr>\n",
       "    <tr>\n",
       "      <th>SMB</th>\n",
       "      <td>-0.311482</td>\n",
       "      <td>-0.064590</td>\n",
       "      <td>1.000000</td>\n",
       "      <td>0.109709</td>\n",
       "      <td>-0.425420</td>\n",
       "      <td>-0.115271</td>\n",
       "      <td>0.140276</td>\n",
       "      <td>-0.116311</td>\n",
       "    </tr>\n",
       "    <tr>\n",
       "      <th>HML</th>\n",
       "      <td>-0.088517</td>\n",
       "      <td>0.079173</td>\n",
       "      <td>0.109709</td>\n",
       "      <td>1.000000</td>\n",
       "      <td>-0.322842</td>\n",
       "      <td>0.518085</td>\n",
       "      <td>0.194440</td>\n",
       "      <td>-0.500897</td>\n",
       "    </tr>\n",
       "    <tr>\n",
       "      <th>RMW</th>\n",
       "      <td>-0.405059</td>\n",
       "      <td>-0.546045</td>\n",
       "      <td>-0.425420</td>\n",
       "      <td>-0.322842</td>\n",
       "      <td>1.000000</td>\n",
       "      <td>0.225890</td>\n",
       "      <td>0.113958</td>\n",
       "      <td>0.322640</td>\n",
       "    </tr>\n",
       "    <tr>\n",
       "      <th>CMA</th>\n",
       "      <td>-0.288433</td>\n",
       "      <td>-0.307633</td>\n",
       "      <td>-0.115271</td>\n",
       "      <td>0.518085</td>\n",
       "      <td>0.225890</td>\n",
       "      <td>1.000000</td>\n",
       "      <td>0.275229</td>\n",
       "      <td>0.017168</td>\n",
       "    </tr>\n",
       "    <tr>\n",
       "      <th>RF</th>\n",
       "      <td>-0.248617</td>\n",
       "      <td>-0.100978</td>\n",
       "      <td>0.140276</td>\n",
       "      <td>0.194440</td>\n",
       "      <td>0.113958</td>\n",
       "      <td>0.275229</td>\n",
       "      <td>1.000000</td>\n",
       "      <td>-0.204530</td>\n",
       "    </tr>\n",
       "    <tr>\n",
       "      <th>Mom</th>\n",
       "      <td>-0.127605</td>\n",
       "      <td>-0.337130</td>\n",
       "      <td>-0.116311</td>\n",
       "      <td>-0.500897</td>\n",
       "      <td>0.322640</td>\n",
       "      <td>0.017168</td>\n",
       "      <td>-0.204530</td>\n",
       "      <td>1.000000</td>\n",
       "    </tr>\n",
       "  </tbody>\n",
       "</table>\n",
       "</div>"
      ],
      "text/plain": [
       "              TR    Mkt-RF       SMB       HML       RMW       CMA        RF  \\\n",
       "TR      1.000000  0.801910 -0.311482 -0.088517 -0.405059 -0.288433 -0.248617   \n",
       "Mkt-RF  0.801910  1.000000 -0.064590  0.079173 -0.546045 -0.307633 -0.100978   \n",
       "SMB    -0.311482 -0.064590  1.000000  0.109709 -0.425420 -0.115271  0.140276   \n",
       "HML    -0.088517  0.079173  0.109709  1.000000 -0.322842  0.518085  0.194440   \n",
       "RMW    -0.405059 -0.546045 -0.425420 -0.322842  1.000000  0.225890  0.113958   \n",
       "CMA    -0.288433 -0.307633 -0.115271  0.518085  0.225890  1.000000  0.275229   \n",
       "RF     -0.248617 -0.100978  0.140276  0.194440  0.113958  0.275229  1.000000   \n",
       "Mom    -0.127605 -0.337130 -0.116311 -0.500897  0.322640  0.017168 -0.204530   \n",
       "\n",
       "          Mom     \n",
       "TR     -0.127605  \n",
       "Mkt-RF -0.337130  \n",
       "SMB    -0.116311  \n",
       "HML    -0.500897  \n",
       "RMW     0.322640  \n",
       "CMA     0.017168  \n",
       "RF     -0.204530  \n",
       "Mom     1.000000  "
      ]
     },
     "execution_count": 134,
     "metadata": {},
     "output_type": "execute_result"
    }
   ],
   "source": [
    "df.corr()"
   ]
  },
  {
   "cell_type": "markdown",
   "metadata": {},
   "source": [
    "## Multifactor Analysis\n",
    "\n",
    "Firstly, we conducted an in-depth analysis using 2014 5-Factor Fama-French model on monthly returns: Market (Market-Risk Premium), SMB (Size Premium), HML (Value Premium), RMW (Operating Profitability Premium) and CMA(Low CapEx Intensity Premium) during the period 2016-2018:\n",
    "\n",
    "https://papers.ssrn.com/sol3/papers.cfm?abstract_id=2287202\n",
    "\n",
    "The model below is robust explaining 76% volatility with almost all variables showcasing significant coeffs with the exception of CMA (Low CapEx Premium). \"Intercept\" positive and statistically significant coefficient is product of a proper stock-picking and sector/industry/theme selection."
   ]
  },
  {
   "cell_type": "code",
   "execution_count": 11,
   "metadata": {},
   "outputs": [
    {
     "data": {
      "text/plain": [
       "Index([u'TR', u'Mkt-RF', u'SMB', u'HML', u'RMW', u'CMA', u'RF', u'Mom   '], dtype='object')"
      ]
     },
     "execution_count": 11,
     "metadata": {},
     "output_type": "execute_result"
    }
   ],
   "source": [
    "df.columns"
   ]
  },
  {
   "cell_type": "code",
   "execution_count": 31,
   "metadata": {},
   "outputs": [
    {
     "name": "stdout",
     "output_type": "stream",
     "text": [
      "                            OLS Regression Results                            \n",
      "==============================================================================\n",
      "Dep. Variable:                      Y   R-squared:                       0.758\n",
      "Model:                            OLS   Adj. R-squared:                  0.733\n",
      "Method:                 Least Squares   F-statistic:                     31.27\n",
      "Date:                Mon, 03 Dec 2018   Prob (F-statistic):           2.76e-14\n",
      "Time:                        16:14:22   Log-Likelihood:                -89.778\n",
      "No. Observations:                  56   AIC:                             191.6\n",
      "Df Residuals:                      50   BIC:                             203.7\n",
      "Df Model:                           5                                         \n",
      "Covariance Type:            nonrobust                                         \n",
      "==============================================================================\n",
      "                 coef    std err          t      P>|t|      [0.025      0.975]\n",
      "------------------------------------------------------------------------------\n",
      "Intercept      1.1671      0.194      6.022      0.000       0.778       1.556\n",
      "MKT            0.4090      0.058      7.044      0.000       0.292       0.526\n",
      "SMB           -0.6401      0.150     -4.256      0.000      -0.942      -0.338\n",
      "HML           -0.3710      0.165     -2.253      0.029      -0.702      -0.040\n",
      "RMW           -0.6304      0.246     -2.562      0.013      -1.125      -0.136\n",
      "CMA            0.1276      0.258      0.494      0.623      -0.391       0.646\n",
      "==============================================================================\n",
      "Omnibus:                        2.081   Durbin-Watson:                   1.683\n",
      "Prob(Omnibus):                  0.353   Jarque-Bera (JB):                2.025\n",
      "Skew:                           0.430   Prob(JB):                        0.363\n",
      "Kurtosis:                       2.641   Cond. No.                         7.34\n",
      "==============================================================================\n",
      "\n",
      "Warnings:\n",
      "[1] Standard Errors assume that the covariance matrix of the errors is correctly specified.\n"
     ]
    }
   ],
   "source": [
    "import pandas as pd\n",
    "import statsmodels.formula.api as sm\n",
    "MKT = list(df.loc[:,'Mkt-RF']) # Market Return\n",
    "SMB = list(df.loc[:,'SMB']) # Size Premium\n",
    "HML = list(df.loc[:,'HML']) # Value Premium\n",
    "RMW = list(df.loc[:,'RMW']) # Quality Premium (High Op. Profitability Premium) \n",
    "CMA = list(df.loc[:,'CMA']) # Low CapEx Premium\n",
    "\n",
    "Y = list(df.loc[:,'TR']-df.loc[:,'RF'])\n",
    "\n",
    "dfr = pd.DataFrame({'MKT':MKT,'SMB':SMB,'HML':HML,'RMW':RMW,'CMA':CMA,'Y':Y})\n",
    "\n",
    "result = sm.ols(formula=\"Y ~ MKT + SMB + HML + RMW + CMA\", data=dfr).fit()\n",
    "print(result.summary())"
   ]
  },
  {
   "cell_type": "code",
   "execution_count": 32,
   "metadata": {},
   "outputs": [
    {
     "data": {
      "text/plain": [
       "Intercept    1.167127\n",
       "MKT          0.409012\n",
       "SMB         -0.640089\n",
       "HML         -0.370985\n",
       "RMW         -0.630448\n",
       "dtype: float64"
      ]
     },
     "execution_count": 32,
     "metadata": {},
     "output_type": "execute_result"
    }
   ],
   "source": [
    "# Significant Factors\n",
    "sig = result.params[result.pvalues.values<0.1]\n",
    "sig"
   ]
  },
  {
   "cell_type": "code",
   "execution_count": 33,
   "metadata": {},
   "outputs": [
    {
     "data": {
      "text/plain": [
       "<BarContainer object of 5 artists>"
      ]
     },
     "execution_count": 33,
     "metadata": {},
     "output_type": "execute_result"
    },
    {
     "data": {
      "image/png": "[encoded data removed]",
      "text/plain": [
       "<Figure size 432x288 with 1 Axes>"
      ]
     },
     "metadata": {
      "needs_background": "light"
     },
     "output_type": "display_data"
    }
   ],
   "source": [
    "% matplotlib inline\n",
    "import matplotlib.pyplot as plt\n",
    "plt.bar(sig.index, sig.values)\n",
    "#plt.plot(sig.values)"
   ]
  },
  {
   "cell_type": "markdown",
   "metadata": {},
   "source": [
    "In addition, Fama-French Momentum Factor was added to the model as several practitioners and scholars have critized the no inclusion of the long-time accepted momentum effect in their overall 5-Factor model:\n",
    "\n",
    "https://www.robeco.com/en/insights/2015/10/fama-french-5-factor-model-why-more-is-not-always-better.html\n",
    "\n",
    "Once again, the model is quite robust according to its high coeficient of determination (0.76) and an overall F-Test low p-value suggesting model relevance. Furthemore, \"Intercept\" repeats as a positive and statistically significant coefficient showcasing an appropriate stock-picking and sector/industry/theme selection. The only pitfall of this new model is the fact that AIC and BIC are a tad higher than in our previous one or, in other words, we don't obtain explanatory gaisn from adding a new \"momentum\" factor to the predictors set."
   ]
  },
  {
   "cell_type": "code",
   "execution_count": 34,
   "metadata": {},
   "outputs": [
    {
     "name": "stdout",
     "output_type": "stream",
     "text": [
      "                            OLS Regression Results                            \n",
      "==============================================================================\n",
      "Dep. Variable:                      Y   R-squared:                       0.760\n",
      "Model:                            OLS   Adj. R-squared:                  0.730\n",
      "Method:                 Least Squares   F-statistic:                     25.81\n",
      "Date:                Mon, 03 Dec 2018   Prob (F-statistic):           1.36e-13\n",
      "Time:                        16:25:36   Log-Likelihood:                -89.556\n",
      "No. Observations:                  56   AIC:                             193.1\n",
      "Df Residuals:                      49   BIC:                             207.3\n",
      "Df Model:                           6                                         \n",
      "Covariance Type:            nonrobust                                         \n",
      "==============================================================================\n",
      "                 coef    std err          t      P>|t|      [0.025      0.975]\n",
      "------------------------------------------------------------------------------\n",
      "Intercept      1.1526      0.196      5.868      0.000       0.758       1.547\n",
      "MKT            0.4189      0.061      6.921      0.000       0.297       0.541\n",
      "SMB           -0.6308      0.152     -4.149      0.000      -0.936      -0.325\n",
      "HML           -0.3051      0.196     -1.553      0.127      -0.700       0.090\n",
      "RMW           -0.6101      0.250     -2.443      0.018      -1.112      -0.108\n",
      "CMA            0.0805      0.270      0.298      0.767      -0.463       0.624\n",
      "MOM            0.0428      0.069      0.625      0.535      -0.095       0.181\n",
      "==============================================================================\n",
      "Omnibus:                        1.720   Durbin-Watson:                   1.600\n",
      "Prob(Omnibus):                  0.423   Jarque-Bera (JB):                1.703\n",
      "Skew:                           0.380   Prob(JB):                        0.427\n",
      "Kurtosis:                       2.608   Cond. No.                         8.43\n",
      "==============================================================================\n",
      "\n",
      "Warnings:\n",
      "[1] Standard Errors assume that the covariance matrix of the errors is correctly specified.\n"
     ]
    }
   ],
   "source": [
    "import pandas as pd\n",
    "import statsmodels.formula.api as sm\n",
    "MKT = list(df.loc[:,'Mkt-RF']) # Market Premium\n",
    "SMB = list(df.loc[:,'SMB']) # Size Premium\n",
    "HML = list(df.loc[:,'HML']) # Value Premium\n",
    "RMW = list(df.loc[:,'RMW']) # Quality Premium (High Op. Profitability Premium) \n",
    "CMA = list(df.loc[:,'CMA']) # Low CapEx Premium\n",
    "MOM = list(df.loc[:,'Mom   ']) # Momentum Premium\n",
    "\n",
    "Y = list(df.loc[:,'TR']-df.loc[:,'RF'])\n",
    "\n",
    "dfr = pd.DataFrame({'MKT':MKT,'SMB':SMB,'HML':HML,'RMW':RMW,'CMA':CMA,'MOM':MOM,'Y':Y})\n",
    "\n",
    "\n",
    "result = sm.ols(formula=\"Y ~ MKT + SMB + HML + RMW + CMA + MOM\", data=dfr).fit()\n",
    "print(result.summary())"
   ]
  },
  {
   "cell_type": "code",
   "execution_count": 20,
   "metadata": {},
   "outputs": [
    {
     "data": {
      "text/plain": [
       "Intercept    1.152568\n",
       "MKT          0.418899\n",
       "SMB         -0.630793\n",
       "RMW         -0.610110\n",
       "dtype: float64"
      ]
     },
     "execution_count": 20,
     "metadata": {},
     "output_type": "execute_result"
    }
   ],
   "source": [
    "# Significant Factors\n",
    "sig = result.params[result.pvalues.values<0.1]\n",
    "sig"
   ]
  },
  {
   "cell_type": "code",
   "execution_count": 22,
   "metadata": {},
   "outputs": [
    {
     "data": {
      "text/plain": [
       "['Intercept', 'MKT', 'SMB', 'RMW']"
      ]
     },
     "execution_count": 22,
     "metadata": {},
     "output_type": "execute_result"
    }
   ],
   "source": [
    "list(sig.index)"
   ]
  },
  {
   "cell_type": "code",
   "execution_count": 27,
   "metadata": {},
   "outputs": [
    {
     "data": {
      "text/plain": [
       "<BarContainer object of 4 artists>"
      ]
     },
     "execution_count": 27,
     "metadata": {},
     "output_type": "execute_result"
    },
    {
     "data": {
      "image/png": "[encoded data removed]",
      "text/plain": [
       "<Figure size 432x288 with 1 Axes>"
      ]
     },
     "metadata": {
      "needs_background": "light"
     },
     "output_type": "display_data"
    }
   ],
   "source": [
    "% matplotlib inline\n",
    "import matplotlib.pyplot as plt\n",
    "plt.bar(sig.index, sig.values)\n",
    "#plt.plot(sig.values)"
   ]
  },
  {
   "cell_type": "markdown",
   "metadata": {},
   "source": [
    "Looking into our worse AIC and BIC stats compared to our first model, the correlation matrix doesn't provide a good reason to leave it out as none of the correl factors seems to be dramatically important."
   ]
  },
  {
   "cell_type": "code",
   "execution_count": 39,
   "metadata": {
    "scrolled": true
   },
   "outputs": [
    {
     "data": {
      "text/html": [
       "<div>\n",
       "<style scoped>\n",
       "    .dataframe tbody tr th:only-of-type {\n",
       "        vertical-align: middle;\n",
       "    }\n",
       "\n",
       "    .dataframe tbody tr th {\n",
       "        vertical-align: top;\n",
       "    }\n",
       "\n",
       "    .dataframe thead th {\n",
       "        text-align: right;\n",
       "    }\n",
       "</style>\n",
       "<table border=\"1\" class=\"dataframe\">\n",
       "  <thead>\n",
       "    <tr style=\"text-align: right;\">\n",
       "      <th></th>\n",
       "      <th>CMA</th>\n",
       "      <th>HML</th>\n",
       "      <th>MKT</th>\n",
       "      <th>MOM</th>\n",
       "      <th>RMW</th>\n",
       "      <th>SMB</th>\n",
       "      <th>Y</th>\n",
       "    </tr>\n",
       "  </thead>\n",
       "  <tbody>\n",
       "    <tr>\n",
       "      <th>CMA</th>\n",
       "      <td>1.000000</td>\n",
       "      <td>0.518085</td>\n",
       "      <td>-0.307633</td>\n",
       "      <td>0.017168</td>\n",
       "      <td>0.225890</td>\n",
       "      <td>-0.115271</td>\n",
       "      <td>-0.288849</td>\n",
       "    </tr>\n",
       "    <tr>\n",
       "      <th>HML</th>\n",
       "      <td>0.518085</td>\n",
       "      <td>1.000000</td>\n",
       "      <td>0.079173</td>\n",
       "      <td>-0.500897</td>\n",
       "      <td>-0.322842</td>\n",
       "      <td>0.109709</td>\n",
       "      <td>-0.088870</td>\n",
       "    </tr>\n",
       "    <tr>\n",
       "      <th>MKT</th>\n",
       "      <td>-0.307633</td>\n",
       "      <td>0.079173</td>\n",
       "      <td>1.000000</td>\n",
       "      <td>-0.337130</td>\n",
       "      <td>-0.546045</td>\n",
       "      <td>-0.064590</td>\n",
       "      <td>0.801707</td>\n",
       "    </tr>\n",
       "    <tr>\n",
       "      <th>MOM</th>\n",
       "      <td>0.017168</td>\n",
       "      <td>-0.500897</td>\n",
       "      <td>-0.337130</td>\n",
       "      <td>1.000000</td>\n",
       "      <td>0.322640</td>\n",
       "      <td>-0.116311</td>\n",
       "      <td>-0.127122</td>\n",
       "    </tr>\n",
       "    <tr>\n",
       "      <th>RMW</th>\n",
       "      <td>0.225890</td>\n",
       "      <td>-0.322842</td>\n",
       "      <td>-0.546045</td>\n",
       "      <td>0.322640</td>\n",
       "      <td>1.000000</td>\n",
       "      <td>-0.425420</td>\n",
       "      <td>-0.405085</td>\n",
       "    </tr>\n",
       "    <tr>\n",
       "      <th>SMB</th>\n",
       "      <td>-0.115271</td>\n",
       "      <td>0.109709</td>\n",
       "      <td>-0.064590</td>\n",
       "      <td>-0.116311</td>\n",
       "      <td>-0.425420</td>\n",
       "      <td>1.000000</td>\n",
       "      <td>-0.311610</td>\n",
       "    </tr>\n",
       "    <tr>\n",
       "      <th>Y</th>\n",
       "      <td>-0.288849</td>\n",
       "      <td>-0.088870</td>\n",
       "      <td>0.801707</td>\n",
       "      <td>-0.127122</td>\n",
       "      <td>-0.405085</td>\n",
       "      <td>-0.311610</td>\n",
       "      <td>1.000000</td>\n",
       "    </tr>\n",
       "  </tbody>\n",
       "</table>\n",
       "</div>"
      ],
      "text/plain": [
       "          CMA       HML       MKT       MOM       RMW       SMB         Y\n",
       "CMA  1.000000  0.518085 -0.307633  0.017168  0.225890 -0.115271 -0.288849\n",
       "HML  0.518085  1.000000  0.079173 -0.500897 -0.322842  0.109709 -0.088870\n",
       "MKT -0.307633  0.079173  1.000000 -0.337130 -0.546045 -0.064590  0.801707\n",
       "MOM  0.017168 -0.500897 -0.337130  1.000000  0.322640 -0.116311 -0.127122\n",
       "RMW  0.225890 -0.322842 -0.546045  0.322640  1.000000 -0.425420 -0.405085\n",
       "SMB -0.115271  0.109709 -0.064590 -0.116311 -0.425420  1.000000 -0.311610\n",
       "Y   -0.288849 -0.088870  0.801707 -0.127122 -0.405085 -0.311610  1.000000"
      ]
     },
     "execution_count": 39,
     "metadata": {},
     "output_type": "execute_result"
    }
   ],
   "source": [
    "dfr.corr()"
   ]
  },
  {
   "cell_type": "markdown",
   "metadata": {},
   "source": [
    "## Performance Analysis packages"
   ]
  },
  {
   "cell_type": "markdown",
   "metadata": {},
   "source": [
    "### Pyfolio"
   ]
  },
  {
   "cell_type": "code",
   "execution_count": 69,
   "metadata": {},
   "outputs": [
    {
     "data": {
      "text/plain": [
       "2011-08-31   -0.023\n",
       "2011-09-30   -0.022\n",
       "2011-10-31    0.067\n",
       "2011-11-30    0.017\n",
       "2011-12-31    0.022\n",
       "Freq: M, Name: TR, dtype: float64"
      ]
     },
     "execution_count": 69,
     "metadata": {},
     "output_type": "execute_result"
    }
   ],
   "source": [
    "import pyfolio as pf\n",
    "%matplotlib inline\n",
    "\n",
    "# silence warnings\n",
    "import warnings\n",
    "warnings.filterwarnings('ignore')\n",
    "\n",
    "import pandas as pd\n",
    "\n",
    "results = df\n",
    "returns = df.loc[:,'TR']/100\n",
    "#returns.index = returns.index.to_timestamp(how='end')\n",
    "returns.head()"
   ]
  },
  {
   "cell_type": "code",
   "execution_count": 72,
   "metadata": {},
   "outputs": [
    {
     "ename": "TypeError",
     "evalue": "create_returns_tear_sheet() got an unexpected keyword argument 'period'",
     "output_type": "error",
     "traceback": [
      "\u001b[1;31m---------------------------------------------------------------------------\u001b[0m",
      "\u001b[1;31mTypeError\u001b[0m                                 Traceback (most recent call last)",
      "\u001b[1;32m<ipython-input-72-86b2b157c5fa>\u001b[0m in \u001b[0;36m<module>\u001b[1;34m()\u001b[0m\n\u001b[1;32m----> 1\u001b[1;33m \u001b[0mpf\u001b[0m\u001b[1;33m.\u001b[0m\u001b[0mcreate_returns_tear_sheet\u001b[0m\u001b[1;33m(\u001b[0m\u001b[0mreturns\u001b[0m\u001b[1;33m,\u001b[0m\u001b[0mperiod\u001b[0m\u001b[1;33m=\u001b[0m\u001b[1;34m'monthly'\u001b[0m\u001b[1;33m)\u001b[0m\u001b[1;33m\u001b[0m\u001b[0m\n\u001b[0m",
      "\u001b[1;32mC:\\Users\\Carlo\\Anaconda3\\envs\\pyfolio\\lib\\site-packages\\pyfolio\\plotting.pyc\u001b[0m in \u001b[0;36mcall_w_context\u001b[1;34m(*args, **kwargs)\u001b[0m\n\u001b[0;32m     50\u001b[0m         \u001b[1;32mif\u001b[0m \u001b[0mset_context\u001b[0m\u001b[1;33m:\u001b[0m\u001b[1;33m\u001b[0m\u001b[0m\n\u001b[0;32m     51\u001b[0m             \u001b[1;32mwith\u001b[0m \u001b[0mplotting_context\u001b[0m\u001b[1;33m(\u001b[0m\u001b[1;33m)\u001b[0m\u001b[1;33m,\u001b[0m \u001b[0maxes_style\u001b[0m\u001b[1;33m(\u001b[0m\u001b[1;33m)\u001b[0m\u001b[1;33m:\u001b[0m\u001b[1;33m\u001b[0m\u001b[0m\n\u001b[1;32m---> 52\u001b[1;33m                 \u001b[1;32mreturn\u001b[0m \u001b[0mfunc\u001b[0m\u001b[1;33m(\u001b[0m\u001b[1;33m*\u001b[0m\u001b[0margs\u001b[0m\u001b[1;33m,\u001b[0m \u001b[1;33m**\u001b[0m\u001b[0mkwargs\u001b[0m\u001b[1;33m)\u001b[0m\u001b[1;33m\u001b[0m\u001b[0m\n\u001b[0m\u001b[0;32m     53\u001b[0m         \u001b[1;32melse\u001b[0m\u001b[1;33m:\u001b[0m\u001b[1;33m\u001b[0m\u001b[0m\n\u001b[0;32m     54\u001b[0m             \u001b[1;32mreturn\u001b[0m \u001b[0mfunc\u001b[0m\u001b[1;33m(\u001b[0m\u001b[1;33m*\u001b[0m\u001b[0margs\u001b[0m\u001b[1;33m,\u001b[0m \u001b[1;33m**\u001b[0m\u001b[0mkwargs\u001b[0m\u001b[1;33m)\u001b[0m\u001b[1;33m\u001b[0m\u001b[0m\n",
      "\u001b[1;31mTypeError\u001b[0m: create_returns_tear_sheet() got an unexpected keyword argument 'period'"
     ]
    }
   ],
   "source": [
    "pf.create_returns_tear_sheet(returns,period='monthly')  "
   ]
  },
  {
   "cell_type": "markdown",
   "metadata": {},
   "source": [
    "Regrettably Pyfolio only works when we have daily obs"
   ]
  },
  {
   "cell_type": "markdown",
   "metadata": {},
   "source": [
    "### FFN\n",
    "links:\n",
    "- https://github.com/pmorissette/ffn\n",
    "- http://pmorissette.github.io/ffn/quick.html\n",
    "- http://pmorissette.github.io/ffn/ffn.html"
   ]
  },
  {
   "cell_type": "code",
   "execution_count": 32,
   "metadata": {},
   "outputs": [
    {
     "data": {
      "text/plain": [
       "2011-08-31     97.700000\n",
       "2011-09-30     95.550600\n",
       "2011-10-31    101.952490\n",
       "2011-11-30    103.685683\n",
       "2011-12-31    105.966768\n",
       "Freq: M, Name: TR, dtype: float64"
      ]
     },
     "execution_count": 32,
     "metadata": {},
     "output_type": "execute_result"
    }
   ],
   "source": [
    "import ffn\n",
    "\n",
    "# transform data:\n",
    "returns =df['TR']/100 \n",
    "returns.index = returns.index.to_timestamp(how='end')\n",
    "prices = 100*(1 + returns).cumprod()\n",
    "prices.head()"
   ]
  },
  {
   "cell_type": "code",
   "execution_count": 125,
   "metadata": {},
   "outputs": [
    {
     "data": {
      "text/plain": [
       "2011-08-31     97.700000\n",
       "2011-09-30     95.550600\n",
       "2011-10-31    101.952490\n",
       "2011-11-30    103.685683\n",
       "2011-12-31    105.966768\n",
       "Freq: M, Name: TR, dtype: float64"
      ]
     },
     "execution_count": 125,
     "metadata": {},
     "output_type": "execute_result"
    }
   ],
   "source": [
    "# or using ffn utility function:\n",
    "prices_ffn = ffn.to_price_index(returns)\n",
    "prices.head()"
   ]
  },
  {
   "cell_type": "code",
   "execution_count": 36,
   "metadata": {},
   "outputs": [
    {
     "data": {
      "text/plain": [
       "<ffn.core.PerformanceStats at 0x14156c88>"
      ]
     },
     "execution_count": 36,
     "metadata": {},
     "output_type": "execute_result"
    }
   ],
   "source": [
    "# crate stats object:\n",
    "stats = ffn.calc_stats(prices)\n",
    "stats"
   ]
  },
  {
   "cell_type": "code",
   "execution_count": 99,
   "metadata": {},
   "outputs": [
    {
     "name": "stdout",
     "output_type": "stream",
     "text": [
      "strategy cagr is 18.57 and sharpe is 2.08\n"
     ]
    }
   ],
   "source": [
    "# extract info:\n",
    "print('strategy cagr is %1.2f and sharpe is %1.2f'% (stats.cagr*100,stats.monthly_sharpe) )"
   ]
  },
  {
   "cell_type": "code",
   "execution_count": 37,
   "metadata": {},
   "outputs": [
    {
     "data": {
      "text/html": [
       "<div>\n",
       "<style scoped>\n",
       "    .dataframe tbody tr th:only-of-type {\n",
       "        vertical-align: middle;\n",
       "    }\n",
       "\n",
       "    .dataframe tbody tr th {\n",
       "        vertical-align: top;\n",
       "    }\n",
       "\n",
       "    .dataframe thead th {\n",
       "        text-align: right;\n",
       "    }\n",
       "</style>\n",
       "<table border=\"1\" class=\"dataframe\">\n",
       "  <thead>\n",
       "    <tr style=\"text-align: right;\">\n",
       "      <th></th>\n",
       "      <th>Jan</th>\n",
       "      <th>Feb</th>\n",
       "      <th>Mar</th>\n",
       "      <th>Apr</th>\n",
       "      <th>May</th>\n",
       "      <th>Jun</th>\n",
       "      <th>Jul</th>\n",
       "      <th>Aug</th>\n",
       "      <th>Sep</th>\n",
       "      <th>Oct</th>\n",
       "      <th>Nov</th>\n",
       "      <th>Dec</th>\n",
       "      <th>YTD</th>\n",
       "    </tr>\n",
       "  </thead>\n",
       "  <tbody>\n",
       "    <tr>\n",
       "      <th>2011</th>\n",
       "      <td>0.000</td>\n",
       "      <td>0.000</td>\n",
       "      <td>0.000</td>\n",
       "      <td>0.000</td>\n",
       "      <td>0.000</td>\n",
       "      <td>0.000</td>\n",
       "      <td>0.000</td>\n",
       "      <td>0.000</td>\n",
       "      <td>-0.022</td>\n",
       "      <td>0.067</td>\n",
       "      <td>0.017</td>\n",
       "      <td>0.022</td>\n",
       "      <td>0.084614</td>\n",
       "    </tr>\n",
       "    <tr>\n",
       "      <th>2012</th>\n",
       "      <td>0.037</td>\n",
       "      <td>0.039</td>\n",
       "      <td>0.005</td>\n",
       "      <td>0.001</td>\n",
       "      <td>-0.055</td>\n",
       "      <td>0.024</td>\n",
       "      <td>0.034</td>\n",
       "      <td>0.028</td>\n",
       "      <td>0.023</td>\n",
       "      <td>0.016</td>\n",
       "      <td>0.019</td>\n",
       "      <td>-0.007</td>\n",
       "      <td>0.172553</td>\n",
       "    </tr>\n",
       "    <tr>\n",
       "      <th>2013</th>\n",
       "      <td>0.051</td>\n",
       "      <td>0.038</td>\n",
       "      <td>0.038</td>\n",
       "      <td>0.028</td>\n",
       "      <td>0.028</td>\n",
       "      <td>-0.011</td>\n",
       "      <td>0.031</td>\n",
       "      <td>-0.028</td>\n",
       "      <td>0.018</td>\n",
       "      <td>0.033</td>\n",
       "      <td>0.014</td>\n",
       "      <td>0.015</td>\n",
       "      <td>0.283681</td>\n",
       "    </tr>\n",
       "    <tr>\n",
       "      <th>2014</th>\n",
       "      <td>-0.006</td>\n",
       "      <td>0.047</td>\n",
       "      <td>0.008</td>\n",
       "      <td>-0.001</td>\n",
       "      <td>0.014</td>\n",
       "      <td>0.013</td>\n",
       "      <td>-0.007</td>\n",
       "      <td>0.018</td>\n",
       "      <td>0.033</td>\n",
       "      <td>0.009</td>\n",
       "      <td>0.032</td>\n",
       "      <td>-0.009</td>\n",
       "      <td>0.159974</td>\n",
       "    </tr>\n",
       "    <tr>\n",
       "      <th>2015</th>\n",
       "      <td>0.002</td>\n",
       "      <td>0.034</td>\n",
       "      <td>0.003</td>\n",
       "      <td>0.016</td>\n",
       "      <td>0.047</td>\n",
       "      <td>-0.019</td>\n",
       "      <td>0.028</td>\n",
       "      <td>-0.043</td>\n",
       "      <td>-0.010</td>\n",
       "      <td>0.063</td>\n",
       "      <td>0.030</td>\n",
       "      <td>-0.004</td>\n",
       "      <td>0.151778</td>\n",
       "    </tr>\n",
       "    <tr>\n",
       "      <th>2016</th>\n",
       "      <td>-0.012</td>\n",
       "      <td>-0.007</td>\n",
       "      <td>0.020</td>\n",
       "      <td>0.000</td>\n",
       "      <td>0.000</td>\n",
       "      <td>0.000</td>\n",
       "      <td>0.000</td>\n",
       "      <td>0.000</td>\n",
       "      <td>0.000</td>\n",
       "      <td>0.000</td>\n",
       "      <td>0.000</td>\n",
       "      <td>0.000</td>\n",
       "      <td>0.000706</td>\n",
       "    </tr>\n",
       "  </tbody>\n",
       "</table>\n",
       "</div>"
      ],
      "text/plain": [
       "        Jan    Feb    Mar    Apr    May    Jun    Jul    Aug    Sep    Oct  \\\n",
       "2011  0.000  0.000  0.000  0.000  0.000  0.000  0.000  0.000 -0.022  0.067   \n",
       "2012  0.037  0.039  0.005  0.001 -0.055  0.024  0.034  0.028  0.023  0.016   \n",
       "2013  0.051  0.038  0.038  0.028  0.028 -0.011  0.031 -0.028  0.018  0.033   \n",
       "2014 -0.006  0.047  0.008 -0.001  0.014  0.013 -0.007  0.018  0.033  0.009   \n",
       "2015  0.002  0.034  0.003  0.016  0.047 -0.019  0.028 -0.043 -0.010  0.063   \n",
       "2016 -0.012 -0.007  0.020  0.000  0.000  0.000  0.000  0.000  0.000  0.000   \n",
       "\n",
       "        Nov    Dec       YTD  \n",
       "2011  0.017  0.022  0.084614  \n",
       "2012  0.019 -0.007  0.172553  \n",
       "2013  0.014  0.015  0.283681  \n",
       "2014  0.032 -0.009  0.159974  \n",
       "2015  0.030 -0.004  0.151778  \n",
       "2016  0.000  0.000  0.000706  "
      ]
     },
     "execution_count": 37,
     "metadata": {},
     "output_type": "execute_result"
    }
   ],
   "source": [
    "# printing year/month return table\n",
    "stats.return_table"
   ]
  },
  {
   "cell_type": "code",
   "execution_count": 103,
   "metadata": {},
   "outputs": [
    {
     "data": {
      "text/html": [
       "<div>\n",
       "<style scoped>\n",
       "    .dataframe tbody tr th:only-of-type {\n",
       "        vertical-align: middle;\n",
       "    }\n",
       "\n",
       "    .dataframe tbody tr th {\n",
       "        vertical-align: top;\n",
       "    }\n",
       "\n",
       "    .dataframe thead th {\n",
       "        text-align: right;\n",
       "    }\n",
       "</style>\n",
       "<table border=\"1\" class=\"dataframe\">\n",
       "  <thead>\n",
       "    <tr style=\"text-align: right;\">\n",
       "      <th></th>\n",
       "      <th>Start</th>\n",
       "      <th>End</th>\n",
       "      <th>Length</th>\n",
       "      <th>drawdown</th>\n",
       "    </tr>\n",
       "  </thead>\n",
       "  <tbody>\n",
       "    <tr>\n",
       "      <th>0</th>\n",
       "      <td>2011-09-30 00:00:00</td>\n",
       "      <td>2011-10-31 00:00:00</td>\n",
       "      <td>31</td>\n",
       "      <td>-0.022</td>\n",
       "    </tr>\n",
       "    <tr>\n",
       "      <th>1</th>\n",
       "      <td>2012-05-31 00:00:00</td>\n",
       "      <td>2012-07-31 00:00:00</td>\n",
       "      <td>61</td>\n",
       "      <td>-0.055</td>\n",
       "    </tr>\n",
       "    <tr>\n",
       "      <th>2</th>\n",
       "      <td>2012-12-31 00:00:00</td>\n",
       "      <td>2013-01-31 00:00:00</td>\n",
       "      <td>31</td>\n",
       "      <td>-0.007</td>\n",
       "    </tr>\n",
       "    <tr>\n",
       "      <th>3</th>\n",
       "      <td>2013-06-30 00:00:00</td>\n",
       "      <td>2013-07-31 00:00:00</td>\n",
       "      <td>31</td>\n",
       "      <td>-0.011</td>\n",
       "    </tr>\n",
       "    <tr>\n",
       "      <th>4</th>\n",
       "      <td>2013-08-31 00:00:00</td>\n",
       "      <td>2013-10-31 00:00:00</td>\n",
       "      <td>61</td>\n",
       "      <td>-0.028</td>\n",
       "    </tr>\n",
       "    <tr>\n",
       "      <th>5</th>\n",
       "      <td>2014-01-31 00:00:00</td>\n",
       "      <td>2014-02-28 00:00:00</td>\n",
       "      <td>28</td>\n",
       "      <td>-0.006</td>\n",
       "    </tr>\n",
       "    <tr>\n",
       "      <th>6</th>\n",
       "      <td>2014-04-30 00:00:00</td>\n",
       "      <td>2014-05-31 00:00:00</td>\n",
       "      <td>31</td>\n",
       "      <td>-0.001</td>\n",
       "    </tr>\n",
       "    <tr>\n",
       "      <th>7</th>\n",
       "      <td>2014-07-31 00:00:00</td>\n",
       "      <td>2014-08-31 00:00:00</td>\n",
       "      <td>31</td>\n",
       "      <td>-0.007</td>\n",
       "    </tr>\n",
       "    <tr>\n",
       "      <th>8</th>\n",
       "      <td>2014-12-31 00:00:00</td>\n",
       "      <td>2015-02-28 00:00:00</td>\n",
       "      <td>59</td>\n",
       "      <td>-0.009</td>\n",
       "    </tr>\n",
       "    <tr>\n",
       "      <th>9</th>\n",
       "      <td>2015-06-30 00:00:00</td>\n",
       "      <td>2015-07-31 00:00:00</td>\n",
       "      <td>31</td>\n",
       "      <td>-0.019</td>\n",
       "    </tr>\n",
       "    <tr>\n",
       "      <th>10</th>\n",
       "      <td>2015-08-31 00:00:00</td>\n",
       "      <td>2015-10-31 00:00:00</td>\n",
       "      <td>61</td>\n",
       "      <td>-0.05257</td>\n",
       "    </tr>\n",
       "    <tr>\n",
       "      <th>11</th>\n",
       "      <td>2015-12-31 00:00:00</td>\n",
       "      <td>2016-03-31 00:00:00</td>\n",
       "      <td>91</td>\n",
       "      <td>-0.0228403</td>\n",
       "    </tr>\n",
       "  </tbody>\n",
       "</table>\n",
       "</div>"
      ],
      "text/plain": [
       "                  Start                  End Length   drawdown\n",
       "0   2011-09-30 00:00:00  2011-10-31 00:00:00     31     -0.022\n",
       "1   2012-05-31 00:00:00  2012-07-31 00:00:00     61     -0.055\n",
       "2   2012-12-31 00:00:00  2013-01-31 00:00:00     31     -0.007\n",
       "3   2013-06-30 00:00:00  2013-07-31 00:00:00     31     -0.011\n",
       "4   2013-08-31 00:00:00  2013-10-31 00:00:00     61     -0.028\n",
       "5   2014-01-31 00:00:00  2014-02-28 00:00:00     28     -0.006\n",
       "6   2014-04-30 00:00:00  2014-05-31 00:00:00     31     -0.001\n",
       "7   2014-07-31 00:00:00  2014-08-31 00:00:00     31     -0.007\n",
       "8   2014-12-31 00:00:00  2015-02-28 00:00:00     59     -0.009\n",
       "9   2015-06-30 00:00:00  2015-07-31 00:00:00     31     -0.019\n",
       "10  2015-08-31 00:00:00  2015-10-31 00:00:00     61   -0.05257\n",
       "11  2015-12-31 00:00:00  2016-03-31 00:00:00     91 -0.0228403"
      ]
     },
     "execution_count": 103,
     "metadata": {},
     "output_type": "execute_result"
    }
   ],
   "source": [
    "# drawdown report:\n",
    "stats.drawdown_details # length in days"
   ]
  },
  {
   "cell_type": "code",
   "execution_count": 111,
   "metadata": {},
   "outputs": [
    {
     "data": {
      "text/plain": [
       "start                    2011-08-31 00:00:00\n",
       "end                      2016-03-31 00:00:00\n",
       "rf                                         0\n",
       "total_return                         1.18267\n",
       "cagr                                 0.18567\n",
       "max_drawdown                          -0.055\n",
       "calmar                               3.37582\n",
       "mtd                                     0.02\n",
       "three_month                       0.00070568\n",
       "six_month                            0.09128\n",
       "ytd                               0.00070568\n",
       "one_year                            0.109139\n",
       "three_year                          0.148631\n",
       "five_year                            0.18567\n",
       "ten_year                             0.18567\n",
       "incep                                0.18567\n",
       "daily_sharpe                         9.51056\n",
       "daily_sortino                        21.7918\n",
       "daily_mean                           3.67462\n",
       "daily_vol                           0.386373\n",
       "daily_skew                         -0.445108\n",
       "daily_kurt                          0.516964\n",
       "best_day                               0.067\n",
       "worst_day                             -0.055\n",
       "monthly_sharpe                       2.07537\n",
       "monthly_sortino                      4.75537\n",
       "monthly_mean                        0.174982\n",
       "monthly_vol                        0.0843134\n",
       "monthly_skew                       -0.445108\n",
       "monthly_kurt                        0.516964\n",
       "best_month                             0.067\n",
       "worst_month                           -0.055\n",
       "yearly_sharpe                        1.52409\n",
       "yearly_sortino                           inf\n",
       "yearly_mean                         0.153738\n",
       "yearly_vol                          0.100872\n",
       "yearly_skew                        -0.561393\n",
       "yearly_kurt                          2.06525\n",
       "best_year                           0.283681\n",
       "worst_year                        0.00070568\n",
       "avg_drawdown                      -0.0200342\n",
       "avg_drawdown_days                    45.5833\n",
       "avg_up_month                        0.026075\n",
       "avg_down_month                    -0.0160667\n",
       "win_year_perc                              1\n",
       "twelve_month_win_perc                      1\n",
       "dtype: object"
      ]
     },
     "execution_count": 111,
     "metadata": {},
     "output_type": "execute_result"
    }
   ],
   "source": [
    "# Important:\n",
    "perf = prices.calc_stats() # ffn imports functions to be used with numpy/pandas objects\n",
    "perf.stats"
   ]
  },
  {
   "cell_type": "code",
   "execution_count": 115,
   "metadata": {},
   "outputs": [
    {
     "data": {
      "text/plain": [
       "Text(0.5,1,'Returns Histogram')"
      ]
     },
     "execution_count": 115,
     "metadata": {},
     "output_type": "execute_result"
    },
    {
     "data": {
      "image/png": "[encoded data removed]",
      "text/plain": [
       "<Figure size 432x288 with 1 Axes>"
      ]
     },
     "metadata": {
      "needs_background": "light"
     },
     "output_type": "display_data"
    }
   ],
   "source": [
    "# Return Histogram\n",
    "plt.hist(returns)\n",
    "plt.title('Returns Histogram')"
   ]
  },
  {
   "cell_type": "code",
   "execution_count": 117,
   "metadata": {},
   "outputs": [
    {
     "ename": "ImportError",
     "evalue": "matplotlib is required for plotting.",
     "output_type": "error",
     "traceback": [
      "\u001b[1;31m---------------------------------------------------------------------------\u001b[0m",
      "\u001b[1;31mImportError\u001b[0m                               Traceback (most recent call last)",
      "\u001b[1;32m<ipython-input-117-758435a97349>\u001b[0m in \u001b[0;36m<module>\u001b[1;34m()\u001b[0m\n\u001b[0;32m      1\u001b[0m \u001b[1;31m# using ffn\u001b[0m\u001b[1;33m\u001b[0m\u001b[1;33m\u001b[0m\u001b[0m\n\u001b[1;32m----> 2\u001b[1;33m \u001b[0mperf\u001b[0m\u001b[1;33m.\u001b[0m\u001b[0mplot_histogram\u001b[0m\u001b[1;33m(\u001b[0m\u001b[1;33m)\u001b[0m\u001b[1;33m\u001b[0m\u001b[0m\n\u001b[0m",
      "\u001b[1;32mC:\\Users\\Carlo\\Anaconda3\\envs\\py27\\lib\\site-packages\\ffn\\core.pyc\u001b[0m in \u001b[0;36mplot_histogram\u001b[1;34m(self, freq, figsize, title, bins, **kwargs)\u001b[0m\n\u001b[0;32m    560\u001b[0m         \u001b[0max\u001b[0m\u001b[1;33m.\u001b[0m\u001b[0mset_title\u001b[0m\u001b[1;33m(\u001b[0m\u001b[0mtitle\u001b[0m\u001b[1;33m)\u001b[0m\u001b[1;33m\u001b[0m\u001b[0m\n\u001b[0;32m    561\u001b[0m         \u001b[0mplt\u001b[0m\u001b[1;33m.\u001b[0m\u001b[0maxvline\u001b[0m\u001b[1;33m(\u001b[0m\u001b[1;36m0\u001b[0m\u001b[1;33m,\u001b[0m \u001b[0mlinewidth\u001b[0m\u001b[1;33m=\u001b[0m\u001b[1;36m4\u001b[0m\u001b[1;33m)\u001b[0m\u001b[1;33m\u001b[0m\u001b[0m\n\u001b[1;32m--> 562\u001b[1;33m         \u001b[1;32mreturn\u001b[0m \u001b[0mser\u001b[0m\u001b[1;33m.\u001b[0m\u001b[0mplot\u001b[0m\u001b[1;33m(\u001b[0m\u001b[0mkind\u001b[0m\u001b[1;33m=\u001b[0m\u001b[1;34m'kde'\u001b[0m\u001b[1;33m)\u001b[0m\u001b[1;33m\u001b[0m\u001b[0m\n\u001b[0m\u001b[0;32m    563\u001b[0m \u001b[1;33m\u001b[0m\u001b[0m\n\u001b[0;32m    564\u001b[0m     \u001b[1;32mdef\u001b[0m \u001b[0m_get_series\u001b[0m\u001b[1;33m(\u001b[0m\u001b[0mself\u001b[0m\u001b[1;33m,\u001b[0m \u001b[0mfreq\u001b[0m\u001b[1;33m)\u001b[0m\u001b[1;33m:\u001b[0m\u001b[1;33m\u001b[0m\u001b[0m\n",
      "\u001b[1;32mC:\\Users\\Carlo\\Anaconda3\\envs\\py27\\lib\\site-packages\\pandas\\plotting\\_core.pyc\u001b[0m in \u001b[0;36m__call__\u001b[1;34m(self, kind, ax, figsize, use_index, title, grid, legend, style, logx, logy, loglog, xticks, yticks, xlim, ylim, rot, fontsize, colormap, table, yerr, xerr, label, secondary_y, **kwds)\u001b[0m\n\u001b[0;32m   2739\u001b[0m                            \u001b[0mcolormap\u001b[0m\u001b[1;33m=\u001b[0m\u001b[0mcolormap\u001b[0m\u001b[1;33m,\u001b[0m \u001b[0mtable\u001b[0m\u001b[1;33m=\u001b[0m\u001b[0mtable\u001b[0m\u001b[1;33m,\u001b[0m \u001b[0myerr\u001b[0m\u001b[1;33m=\u001b[0m\u001b[0myerr\u001b[0m\u001b[1;33m,\u001b[0m\u001b[1;33m\u001b[0m\u001b[0m\n\u001b[0;32m   2740\u001b[0m                            \u001b[0mxerr\u001b[0m\u001b[1;33m=\u001b[0m\u001b[0mxerr\u001b[0m\u001b[1;33m,\u001b[0m \u001b[0mlabel\u001b[0m\u001b[1;33m=\u001b[0m\u001b[0mlabel\u001b[0m\u001b[1;33m,\u001b[0m \u001b[0msecondary_y\u001b[0m\u001b[1;33m=\u001b[0m\u001b[0msecondary_y\u001b[0m\u001b[1;33m,\u001b[0m\u001b[1;33m\u001b[0m\u001b[0m\n\u001b[1;32m-> 2741\u001b[1;33m                            **kwds)\n\u001b[0m\u001b[0;32m   2742\u001b[0m     \u001b[0m__call__\u001b[0m\u001b[1;33m.\u001b[0m\u001b[0m__doc__\u001b[0m \u001b[1;33m=\u001b[0m \u001b[0mplot_series\u001b[0m\u001b[1;33m.\u001b[0m\u001b[0m__doc__\u001b[0m\u001b[1;33m\u001b[0m\u001b[0m\n\u001b[0;32m   2743\u001b[0m \u001b[1;33m\u001b[0m\u001b[0m\n",
      "\u001b[1;32mC:\\Users\\Carlo\\Anaconda3\\envs\\py27\\lib\\site-packages\\pandas\\plotting\\_core.pyc\u001b[0m in \u001b[0;36mplot_series\u001b[1;34m(data, kind, ax, figsize, use_index, title, grid, legend, style, logx, logy, loglog, xticks, yticks, xlim, ylim, rot, fontsize, colormap, table, yerr, xerr, label, secondary_y, **kwds)\u001b[0m\n\u001b[0;32m   2000\u001b[0m                  \u001b[0myerr\u001b[0m\u001b[1;33m=\u001b[0m\u001b[0myerr\u001b[0m\u001b[1;33m,\u001b[0m \u001b[0mxerr\u001b[0m\u001b[1;33m=\u001b[0m\u001b[0mxerr\u001b[0m\u001b[1;33m,\u001b[0m\u001b[1;33m\u001b[0m\u001b[0m\n\u001b[0;32m   2001\u001b[0m                  \u001b[0mlabel\u001b[0m\u001b[1;33m=\u001b[0m\u001b[0mlabel\u001b[0m\u001b[1;33m,\u001b[0m \u001b[0msecondary_y\u001b[0m\u001b[1;33m=\u001b[0m\u001b[0msecondary_y\u001b[0m\u001b[1;33m,\u001b[0m\u001b[1;33m\u001b[0m\u001b[0m\n\u001b[1;32m-> 2002\u001b[1;33m                  **kwds)\n\u001b[0m\u001b[0;32m   2003\u001b[0m \u001b[1;33m\u001b[0m\u001b[0m\n\u001b[0;32m   2004\u001b[0m \u001b[1;33m\u001b[0m\u001b[0m\n",
      "\u001b[1;32mC:\\Users\\Carlo\\Anaconda3\\envs\\py27\\lib\\site-packages\\pandas\\plotting\\_core.pyc\u001b[0m in \u001b[0;36m_plot\u001b[1;34m(data, x, y, subplots, ax, kind, **kwds)\u001b[0m\n\u001b[0;32m   1800\u001b[0m                     \u001b[0mdata\u001b[0m\u001b[1;33m.\u001b[0m\u001b[0mcolumns\u001b[0m \u001b[1;33m=\u001b[0m \u001b[0mlabel_name\u001b[0m\u001b[1;33m\u001b[0m\u001b[0m\n\u001b[0;32m   1801\u001b[0m \u001b[1;33m\u001b[0m\u001b[0m\n\u001b[1;32m-> 1802\u001b[1;33m         \u001b[0mplot_obj\u001b[0m \u001b[1;33m=\u001b[0m \u001b[0mklass\u001b[0m\u001b[1;33m(\u001b[0m\u001b[0mdata\u001b[0m\u001b[1;33m,\u001b[0m \u001b[0msubplots\u001b[0m\u001b[1;33m=\u001b[0m\u001b[0msubplots\u001b[0m\u001b[1;33m,\u001b[0m \u001b[0max\u001b[0m\u001b[1;33m=\u001b[0m\u001b[0max\u001b[0m\u001b[1;33m,\u001b[0m \u001b[0mkind\u001b[0m\u001b[1;33m=\u001b[0m\u001b[0mkind\u001b[0m\u001b[1;33m,\u001b[0m \u001b[1;33m**\u001b[0m\u001b[0mkwds\u001b[0m\u001b[1;33m)\u001b[0m\u001b[1;33m\u001b[0m\u001b[0m\n\u001b[0m\u001b[0;32m   1803\u001b[0m \u001b[1;33m\u001b[0m\u001b[0m\n\u001b[0;32m   1804\u001b[0m     \u001b[0mplot_obj\u001b[0m\u001b[1;33m.\u001b[0m\u001b[0mgenerate\u001b[0m\u001b[1;33m(\u001b[0m\u001b[1;33m)\u001b[0m\u001b[1;33m\u001b[0m\u001b[0m\n",
      "\u001b[1;32mC:\\Users\\Carlo\\Anaconda3\\envs\\py27\\lib\\site-packages\\pandas\\plotting\\_core.pyc\u001b[0m in \u001b[0;36m__init__\u001b[1;34m(self, data, bw_method, ind, **kwargs)\u001b[0m\n\u001b[0;32m   1439\u001b[0m \u001b[1;33m\u001b[0m\u001b[0m\n\u001b[0;32m   1440\u001b[0m     \u001b[1;32mdef\u001b[0m \u001b[0m__init__\u001b[0m\u001b[1;33m(\u001b[0m\u001b[0mself\u001b[0m\u001b[1;33m,\u001b[0m \u001b[0mdata\u001b[0m\u001b[1;33m,\u001b[0m \u001b[0mbw_method\u001b[0m\u001b[1;33m=\u001b[0m\u001b[0mNone\u001b[0m\u001b[1;33m,\u001b[0m \u001b[0mind\u001b[0m\u001b[1;33m=\u001b[0m\u001b[0mNone\u001b[0m\u001b[1;33m,\u001b[0m \u001b[1;33m**\u001b[0m\u001b[0mkwargs\u001b[0m\u001b[1;33m)\u001b[0m\u001b[1;33m:\u001b[0m\u001b[1;33m\u001b[0m\u001b[0m\n\u001b[1;32m-> 1441\u001b[1;33m         \u001b[0mMPLPlot\u001b[0m\u001b[1;33m.\u001b[0m\u001b[0m__init__\u001b[0m\u001b[1;33m(\u001b[0m\u001b[0mself\u001b[0m\u001b[1;33m,\u001b[0m \u001b[0mdata\u001b[0m\u001b[1;33m,\u001b[0m \u001b[1;33m**\u001b[0m\u001b[0mkwargs\u001b[0m\u001b[1;33m)\u001b[0m\u001b[1;33m\u001b[0m\u001b[0m\n\u001b[0m\u001b[0;32m   1442\u001b[0m         \u001b[0mself\u001b[0m\u001b[1;33m.\u001b[0m\u001b[0mbw_method\u001b[0m \u001b[1;33m=\u001b[0m \u001b[0mbw_method\u001b[0m\u001b[1;33m\u001b[0m\u001b[0m\n\u001b[0;32m   1443\u001b[0m         \u001b[0mself\u001b[0m\u001b[1;33m.\u001b[0m\u001b[0mind\u001b[0m \u001b[1;33m=\u001b[0m \u001b[0mind\u001b[0m\u001b[1;33m\u001b[0m\u001b[0m\n",
      "\u001b[1;32mC:\\Users\\Carlo\\Anaconda3\\envs\\py27\\lib\\site-packages\\pandas\\plotting\\_core.pyc\u001b[0m in \u001b[0;36m__init__\u001b[1;34m(self, data, kind, by, subplots, sharex, sharey, use_index, figsize, grid, legend, rot, ax, fig, title, xlim, ylim, xticks, yticks, sort_columns, fontsize, secondary_y, colormap, table, layout, **kwds)\u001b[0m\n\u001b[0;32m    105\u001b[0m                  table=False, layout=None, **kwds):\n\u001b[0;32m    106\u001b[0m \u001b[1;33m\u001b[0m\u001b[0m\n\u001b[1;32m--> 107\u001b[1;33m         \u001b[0m_raise_if_no_mpl\u001b[0m\u001b[1;33m(\u001b[0m\u001b[1;33m)\u001b[0m\u001b[1;33m\u001b[0m\u001b[0m\n\u001b[0m\u001b[0;32m    108\u001b[0m         \u001b[0m_converter\u001b[0m\u001b[1;33m.\u001b[0m\u001b[0m_WARN\u001b[0m \u001b[1;33m=\u001b[0m \u001b[0mFalse\u001b[0m\u001b[1;33m\u001b[0m\u001b[0m\n\u001b[0;32m    109\u001b[0m         \u001b[0mself\u001b[0m\u001b[1;33m.\u001b[0m\u001b[0mdata\u001b[0m \u001b[1;33m=\u001b[0m \u001b[0mdata\u001b[0m\u001b[1;33m\u001b[0m\u001b[0m\n",
      "\u001b[1;32mC:\\Users\\Carlo\\Anaconda3\\envs\\py27\\lib\\site-packages\\pandas\\plotting\\_core.pyc\u001b[0m in \u001b[0;36m_raise_if_no_mpl\u001b[1;34m()\u001b[0m\n\u001b[0;32m     55\u001b[0m     \u001b[1;31m# TODO(mpl_converter): remove once converter is explicit\u001b[0m\u001b[1;33m\u001b[0m\u001b[1;33m\u001b[0m\u001b[0m\n\u001b[0;32m     56\u001b[0m     \u001b[1;32mif\u001b[0m \u001b[1;32mnot\u001b[0m \u001b[0m_HAS_MPL\u001b[0m\u001b[1;33m:\u001b[0m\u001b[1;33m\u001b[0m\u001b[0m\n\u001b[1;32m---> 57\u001b[1;33m         \u001b[1;32mraise\u001b[0m \u001b[0mImportError\u001b[0m\u001b[1;33m(\u001b[0m\u001b[1;34m\"matplotlib is required for plotting.\"\u001b[0m\u001b[1;33m)\u001b[0m\u001b[1;33m\u001b[0m\u001b[0m\n\u001b[0m\u001b[0;32m     58\u001b[0m \u001b[1;33m\u001b[0m\u001b[0m\n\u001b[0;32m     59\u001b[0m \u001b[1;33m\u001b[0m\u001b[0m\n",
      "\u001b[1;31mImportError\u001b[0m: matplotlib is required for plotting."
     ]
    },
    {
     "data": {
      "image/png": "[encoded data removed]",
      "text/plain": [
       "<Figure size 1080x360 with 1 Axes>"
      ]
     },
     "metadata": {
      "needs_background": "light"
     },
     "output_type": "display_data"
    }
   ],
   "source": [
    "# using ffn\n",
    "perf.plot_histogram()"
   ]
  },
  {
   "cell_type": "code",
   "execution_count": 122,
   "metadata": {},
   "outputs": [
    {
     "data": {
      "text/plain": [
       "<module 'matplotlib.pyplot' from 'C:\\Users\\Carlo\\Anaconda3\\envs\\py27\\lib\\site-packages\\matplotlib\\pyplot.pyc'>"
      ]
     },
     "execution_count": 122,
     "metadata": {},
     "output_type": "execute_result"
    },
    {
     "data": {
      "image/png": "[encoded data removed]",
      "text/plain": [
       "<Figure size 432x288 with 2 Axes>"
      ]
     },
     "metadata": {
      "needs_background": "light"
     },
     "output_type": "display_data"
    }
   ],
   "source": [
    "# Check Correlation matrix between Strategy (TR) and factors\n",
    "ffn.plot_corr_heatmap(df)"
   ]
  },
  {
   "cell_type": "markdown",
   "metadata": {},
   "source": [
    "### Comparing Strategy vs Benchmark"
   ]
  },
  {
   "cell_type": "code",
   "execution_count": 49,
   "metadata": {},
   "outputs": [
    {
     "data": {
      "text/html": [
       "<div>\n",
       "<style scoped>\n",
       "    .dataframe tbody tr th:only-of-type {\n",
       "        vertical-align: middle;\n",
       "    }\n",
       "\n",
       "    .dataframe tbody tr th {\n",
       "        vertical-align: top;\n",
       "    }\n",
       "\n",
       "    .dataframe thead th {\n",
       "        text-align: right;\n",
       "    }\n",
       "</style>\n",
       "<table border=\"1\" class=\"dataframe\">\n",
       "  <thead>\n",
       "    <tr style=\"text-align: right;\">\n",
       "      <th></th>\n",
       "      <th>TR</th>\n",
       "      <th>Mkt</th>\n",
       "    </tr>\n",
       "  </thead>\n",
       "  <tbody>\n",
       "    <tr>\n",
       "      <th>2011-08-31</th>\n",
       "      <td>97.700000</td>\n",
       "      <td>92.480000</td>\n",
       "    </tr>\n",
       "    <tr>\n",
       "      <th>2011-09-30</th>\n",
       "      <td>95.550600</td>\n",
       "      <td>83.971840</td>\n",
       "    </tr>\n",
       "    <tr>\n",
       "      <th>2011-10-31</th>\n",
       "      <td>101.952490</td>\n",
       "      <td>92.377421</td>\n",
       "    </tr>\n",
       "    <tr>\n",
       "      <th>2011-11-30</th>\n",
       "      <td>103.685683</td>\n",
       "      <td>89.938657</td>\n",
       "    </tr>\n",
       "    <tr>\n",
       "      <th>2011-12-31</th>\n",
       "      <td>105.966768</td>\n",
       "      <td>89.542927</td>\n",
       "    </tr>\n",
       "  </tbody>\n",
       "</table>\n",
       "</div>"
      ],
      "text/plain": [
       "                    TR        Mkt\n",
       "2011-08-31   97.700000  92.480000\n",
       "2011-09-30   95.550600  83.971840\n",
       "2011-10-31  101.952490  92.377421\n",
       "2011-11-30  103.685683  89.938657\n",
       "2011-12-31  105.966768  89.542927"
      ]
     },
     "execution_count": 49,
     "metadata": {},
     "output_type": "execute_result"
    }
   ],
   "source": [
    "# transform data to get TR and BMK:\n",
    "df['Mkt'] = df['Mkt-RF']-df['RF']\n",
    "g_returns =df[['TR','Mkt']]/100 \n",
    "g_returns.index = g_returns.index.to_timestamp(how='end')\n",
    "g_prices = 100*(1 + g_returns).cumprod()\n",
    "g_prices.head()"
   ]
  },
  {
   "cell_type": "code",
   "execution_count": 131,
   "metadata": {},
   "outputs": [
    {
     "data": {
      "text/plain": [
       "<matplotlib.legend.Legend at 0x161d1dd8>"
      ]
     },
     "execution_count": 131,
     "metadata": {},
     "output_type": "execute_result"
    },
    {
     "data": {
      "image/png": "[encoded data removed]",
      "text/plain": [
       "<Figure size 432x288 with 1 Axes>"
      ]
     },
     "metadata": {
      "needs_background": "light"
     },
     "output_type": "display_data"
    }
   ],
   "source": [
    "# Plotting Cumulative Returns\n",
    "plt.plot(g_prices)\n",
    "plt.title('Cumulative Returns')\n",
    "plt.legend(g_prices.columns)"
   ]
  },
  {
   "cell_type": "code",
   "execution_count": 51,
   "metadata": {},
   "outputs": [],
   "source": [
    "gstats = ffn.GroupStats(g_prices)"
   ]
  },
  {
   "cell_type": "code",
   "execution_count": 59,
   "metadata": {},
   "outputs": [
    {
     "data": {
      "text/html": [
       "<div>\n",
       "<style scoped>\n",
       "    .dataframe tbody tr th:only-of-type {\n",
       "        vertical-align: middle;\n",
       "    }\n",
       "\n",
       "    .dataframe tbody tr th {\n",
       "        vertical-align: top;\n",
       "    }\n",
       "\n",
       "    .dataframe thead th {\n",
       "        text-align: right;\n",
       "    }\n",
       "</style>\n",
       "<table border=\"1\" class=\"dataframe\">\n",
       "  <thead>\n",
       "    <tr style=\"text-align: right;\">\n",
       "      <th></th>\n",
       "      <th>Mkt</th>\n",
       "      <th>TR</th>\n",
       "    </tr>\n",
       "  </thead>\n",
       "  <tbody>\n",
       "    <tr>\n",
       "      <th>start</th>\n",
       "      <td>2011-08-31 00:00:00</td>\n",
       "      <td>2011-08-31 00:00:00</td>\n",
       "    </tr>\n",
       "    <tr>\n",
       "      <th>end</th>\n",
       "      <td>2016-03-31 00:00:00</td>\n",
       "      <td>2016-03-31 00:00:00</td>\n",
       "    </tr>\n",
       "    <tr>\n",
       "      <th>rf</th>\n",
       "      <td>0</td>\n",
       "      <td>0</td>\n",
       "    </tr>\n",
       "    <tr>\n",
       "      <th>total_return</th>\n",
       "      <td>0.491284</td>\n",
       "      <td>1.18267</td>\n",
       "    </tr>\n",
       "    <tr>\n",
       "      <th>cagr</th>\n",
       "      <td>0.0911115</td>\n",
       "      <td>0.18567</td>\n",
       "    </tr>\n",
       "    <tr>\n",
       "      <th>max_drawdown</th>\n",
       "      <td>-0.125477</td>\n",
       "      <td>-0.055</td>\n",
       "    </tr>\n",
       "    <tr>\n",
       "      <th>calmar</th>\n",
       "      <td>0.726119</td>\n",
       "      <td>3.37582</td>\n",
       "    </tr>\n",
       "    <tr>\n",
       "      <th>mtd</th>\n",
       "      <td>0.0689</td>\n",
       "      <td>0.02</td>\n",
       "    </tr>\n",
       "    <tr>\n",
       "      <th>three_month</th>\n",
       "      <td>-0.00396781</td>\n",
       "      <td>0.00070568</td>\n",
       "    </tr>\n",
       "    <tr>\n",
       "      <th>six_month</th>\n",
       "      <td>0.0469795</td>\n",
       "      <td>0.09128</td>\n",
       "    </tr>\n",
       "    <tr>\n",
       "      <th>ytd</th>\n",
       "      <td>-0.00396781</td>\n",
       "      <td>0.00070568</td>\n",
       "    </tr>\n",
       "    <tr>\n",
       "      <th>one_year</th>\n",
       "      <td>-0.0352798</td>\n",
       "      <td>0.109139</td>\n",
       "    </tr>\n",
       "    <tr>\n",
       "      <th>three_year</th>\n",
       "      <td>0.0688198</td>\n",
       "      <td>0.148631</td>\n",
       "    </tr>\n",
       "    <tr>\n",
       "      <th>five_year</th>\n",
       "      <td>0.0911115</td>\n",
       "      <td>0.18567</td>\n",
       "    </tr>\n",
       "    <tr>\n",
       "      <th>ten_year</th>\n",
       "      <td>0.0911115</td>\n",
       "      <td>0.18567</td>\n",
       "    </tr>\n",
       "    <tr>\n",
       "      <th>incep</th>\n",
       "      <td>0.0911115</td>\n",
       "      <td>0.18567</td>\n",
       "    </tr>\n",
       "    <tr>\n",
       "      <th>daily_sharpe</th>\n",
       "      <td>3.31374</td>\n",
       "      <td>9.51056</td>\n",
       "    </tr>\n",
       "    <tr>\n",
       "      <th>daily_sortino</th>\n",
       "      <td>5.95459</td>\n",
       "      <td>21.7918</td>\n",
       "    </tr>\n",
       "    <tr>\n",
       "      <th>daily_mean</th>\n",
       "      <td>2.02058</td>\n",
       "      <td>3.67462</td>\n",
       "    </tr>\n",
       "    <tr>\n",
       "      <th>daily_vol</th>\n",
       "      <td>0.609758</td>\n",
       "      <td>0.386373</td>\n",
       "    </tr>\n",
       "    <tr>\n",
       "      <th>daily_skew</th>\n",
       "      <td>-0.313023</td>\n",
       "      <td>-0.445108</td>\n",
       "    </tr>\n",
       "    <tr>\n",
       "      <th>daily_kurt</th>\n",
       "      <td>0.580748</td>\n",
       "      <td>0.516964</td>\n",
       "    </tr>\n",
       "    <tr>\n",
       "      <th>best_day</th>\n",
       "      <td>0.1001</td>\n",
       "      <td>0.067</td>\n",
       "    </tr>\n",
       "    <tr>\n",
       "      <th>worst_day</th>\n",
       "      <td>-0.092</td>\n",
       "      <td>-0.055</td>\n",
       "    </tr>\n",
       "    <tr>\n",
       "      <th>monthly_sharpe</th>\n",
       "      <td>0.723118</td>\n",
       "      <td>2.07537</td>\n",
       "    </tr>\n",
       "    <tr>\n",
       "      <th>monthly_sortino</th>\n",
       "      <td>1.2994</td>\n",
       "      <td>4.75537</td>\n",
       "    </tr>\n",
       "    <tr>\n",
       "      <th>monthly_mean</th>\n",
       "      <td>0.0962182</td>\n",
       "      <td>0.174982</td>\n",
       "    </tr>\n",
       "    <tr>\n",
       "      <th>monthly_vol</th>\n",
       "      <td>0.13306</td>\n",
       "      <td>0.0843134</td>\n",
       "    </tr>\n",
       "    <tr>\n",
       "      <th>monthly_skew</th>\n",
       "      <td>-0.313023</td>\n",
       "      <td>-0.445108</td>\n",
       "    </tr>\n",
       "    <tr>\n",
       "      <th>monthly_kurt</th>\n",
       "      <td>0.580748</td>\n",
       "      <td>0.516964</td>\n",
       "    </tr>\n",
       "    <tr>\n",
       "      <th>best_month</th>\n",
       "      <td>0.1001</td>\n",
       "      <td>0.067</td>\n",
       "    </tr>\n",
       "    <tr>\n",
       "      <th>worst_month</th>\n",
       "      <td>-0.092</td>\n",
       "      <td>-0.055</td>\n",
       "    </tr>\n",
       "    <tr>\n",
       "      <th>yearly_sharpe</th>\n",
       "      <td>0.749605</td>\n",
       "      <td>1.52409</td>\n",
       "    </tr>\n",
       "    <tr>\n",
       "      <th>yearly_sortino</th>\n",
       "      <td>44.3212</td>\n",
       "      <td>inf</td>\n",
       "    </tr>\n",
       "    <tr>\n",
       "      <th>yearly_mean</th>\n",
       "      <td>0.0959617</td>\n",
       "      <td>0.153738</td>\n",
       "    </tr>\n",
       "    <tr>\n",
       "      <th>yearly_vol</th>\n",
       "      <td>0.128016</td>\n",
       "      <td>0.100872</td>\n",
       "    </tr>\n",
       "    <tr>\n",
       "      <th>yearly_skew</th>\n",
       "      <td>1.00757</td>\n",
       "      <td>-0.561393</td>\n",
       "    </tr>\n",
       "    <tr>\n",
       "      <th>yearly_kurt</th>\n",
       "      <td>-0.706765</td>\n",
       "      <td>2.06525</td>\n",
       "    </tr>\n",
       "    <tr>\n",
       "      <th>best_year</th>\n",
       "      <td>0.286741</td>\n",
       "      <td>0.283681</td>\n",
       "    </tr>\n",
       "    <tr>\n",
       "      <th>worst_year</th>\n",
       "      <td>-0.00396781</td>\n",
       "      <td>0.00070568</td>\n",
       "    </tr>\n",
       "    <tr>\n",
       "      <th>avg_drawdown</th>\n",
       "      <td>-0.0503734</td>\n",
       "      <td>-0.0200342</td>\n",
       "    </tr>\n",
       "    <tr>\n",
       "      <th>avg_drawdown_days</th>\n",
       "      <td>101.333</td>\n",
       "      <td>45.5833</td>\n",
       "    </tr>\n",
       "    <tr>\n",
       "      <th>avg_up_month</th>\n",
       "      <td>0.0308941</td>\n",
       "      <td>0.026075</td>\n",
       "    </tr>\n",
       "    <tr>\n",
       "      <th>avg_down_month</th>\n",
       "      <td>-0.029019</td>\n",
       "      <td>-0.0160667</td>\n",
       "    </tr>\n",
       "    <tr>\n",
       "      <th>win_year_perc</th>\n",
       "      <td>0.6</td>\n",
       "      <td>1</td>\n",
       "    </tr>\n",
       "    <tr>\n",
       "      <th>twelve_month_win_perc</th>\n",
       "      <td>0.866667</td>\n",
       "      <td>1</td>\n",
       "    </tr>\n",
       "  </tbody>\n",
       "</table>\n",
       "</div>"
      ],
      "text/plain": [
       "                                       Mkt                   TR\n",
       "start                  2011-08-31 00:00:00  2011-08-31 00:00:00\n",
       "end                    2016-03-31 00:00:00  2016-03-31 00:00:00\n",
       "rf                                       0                    0\n",
       "total_return                      0.491284              1.18267\n",
       "cagr                             0.0911115              0.18567\n",
       "max_drawdown                     -0.125477               -0.055\n",
       "calmar                            0.726119              3.37582\n",
       "mtd                                 0.0689                 0.02\n",
       "three_month                    -0.00396781           0.00070568\n",
       "six_month                        0.0469795              0.09128\n",
       "ytd                            -0.00396781           0.00070568\n",
       "one_year                        -0.0352798             0.109139\n",
       "three_year                       0.0688198             0.148631\n",
       "five_year                        0.0911115              0.18567\n",
       "ten_year                         0.0911115              0.18567\n",
       "incep                            0.0911115              0.18567\n",
       "daily_sharpe                       3.31374              9.51056\n",
       "daily_sortino                      5.95459              21.7918\n",
       "daily_mean                         2.02058              3.67462\n",
       "daily_vol                         0.609758             0.386373\n",
       "daily_skew                       -0.313023            -0.445108\n",
       "daily_kurt                        0.580748             0.516964\n",
       "best_day                            0.1001                0.067\n",
       "worst_day                           -0.092               -0.055\n",
       "monthly_sharpe                    0.723118              2.07537\n",
       "monthly_sortino                     1.2994              4.75537\n",
       "monthly_mean                     0.0962182             0.174982\n",
       "monthly_vol                        0.13306            0.0843134\n",
       "monthly_skew                     -0.313023            -0.445108\n",
       "monthly_kurt                      0.580748             0.516964\n",
       "best_month                          0.1001                0.067\n",
       "worst_month                         -0.092               -0.055\n",
       "yearly_sharpe                     0.749605              1.52409\n",
       "yearly_sortino                     44.3212                  inf\n",
       "yearly_mean                      0.0959617             0.153738\n",
       "yearly_vol                        0.128016             0.100872\n",
       "yearly_skew                        1.00757            -0.561393\n",
       "yearly_kurt                      -0.706765              2.06525\n",
       "best_year                         0.286741             0.283681\n",
       "worst_year                     -0.00396781           0.00070568\n",
       "avg_drawdown                    -0.0503734           -0.0200342\n",
       "avg_drawdown_days                  101.333              45.5833\n",
       "avg_up_month                     0.0308941             0.026075\n",
       "avg_down_month                   -0.029019           -0.0160667\n",
       "win_year_perc                          0.6                    1\n",
       "twelve_month_win_perc             0.866667                    1"
      ]
     },
     "execution_count": 59,
     "metadata": {},
     "output_type": "execute_result"
    }
   ],
   "source": [
    "gstats.stats"
   ]
  },
  {
   "cell_type": "code",
   "execution_count": 69,
   "metadata": {},
   "outputs": [
    {
     "data": {
      "text/html": [
       "<div>\n",
       "<style scoped>\n",
       "    .dataframe tbody tr th:only-of-type {\n",
       "        vertical-align: middle;\n",
       "    }\n",
       "\n",
       "    .dataframe tbody tr th {\n",
       "        vertical-align: top;\n",
       "    }\n",
       "\n",
       "    .dataframe thead th {\n",
       "        text-align: right;\n",
       "    }\n",
       "</style>\n",
       "<table border=\"1\" class=\"dataframe\">\n",
       "  <thead>\n",
       "    <tr style=\"text-align: right;\">\n",
       "      <th></th>\n",
       "      <th>Mkt</th>\n",
       "      <th>TR</th>\n",
       "    </tr>\n",
       "  </thead>\n",
       "  <tbody>\n",
       "    <tr>\n",
       "      <th>total_return</th>\n",
       "      <td>0.491284</td>\n",
       "      <td>1.18267</td>\n",
       "    </tr>\n",
       "    <tr>\n",
       "      <th>cagr</th>\n",
       "      <td>0.0911115</td>\n",
       "      <td>0.18567</td>\n",
       "    </tr>\n",
       "    <tr>\n",
       "      <th>yearly_vol</th>\n",
       "      <td>0.128016</td>\n",
       "      <td>0.100872</td>\n",
       "    </tr>\n",
       "    <tr>\n",
       "      <th>monthly_sharpe</th>\n",
       "      <td>0.723118</td>\n",
       "      <td>2.07537</td>\n",
       "    </tr>\n",
       "    <tr>\n",
       "      <th>monthly_sortino</th>\n",
       "      <td>1.2994</td>\n",
       "      <td>4.75537</td>\n",
       "    </tr>\n",
       "    <tr>\n",
       "      <th>max_drawdown</th>\n",
       "      <td>-0.125477</td>\n",
       "      <td>-0.055</td>\n",
       "    </tr>\n",
       "    <tr>\n",
       "      <th>avg_drawdown</th>\n",
       "      <td>-0.0503734</td>\n",
       "      <td>-0.0200342</td>\n",
       "    </tr>\n",
       "    <tr>\n",
       "      <th>avg_drawdown_days</th>\n",
       "      <td>101.333</td>\n",
       "      <td>45.5833</td>\n",
       "    </tr>\n",
       "  </tbody>\n",
       "</table>\n",
       "</div>"
      ],
      "text/plain": [
       "                         Mkt         TR\n",
       "total_return        0.491284    1.18267\n",
       "cagr               0.0911115    0.18567\n",
       "yearly_vol          0.128016   0.100872\n",
       "monthly_sharpe      0.723118    2.07537\n",
       "monthly_sortino       1.2994    4.75537\n",
       "max_drawdown       -0.125477     -0.055\n",
       "avg_drawdown      -0.0503734 -0.0200342\n",
       "avg_drawdown_days    101.333    45.5833"
      ]
     },
     "execution_count": 69,
     "metadata": {},
     "output_type": "execute_result"
    }
   ],
   "source": [
    "gstat_sample = gstats.stats.loc[['total_return','cagr','yearly_vol','monthly_sharpe','monthly_sortino','max_drawdown','avg_drawdown',\n",
    "                 'avg_drawdown_days'],:]\n",
    "gstat_sample"
   ]
  }
 ],
 "metadata": {
  "anaconda-cloud": {},
  "kernelspec": {
   "display_name": "py27",
   "language": "python",
   "name": "py27"
  },
  "language_info": {
   "codemirror_mode": {
    "name": "ipython",
    "version": 2
   },
   "file_extension": ".py",
   "mimetype": "text/x-python",
   "name": "python",
   "nbconvert_exporter": "python",
   "pygments_lexer": "ipython2",
   "version": "2.7.15"
  }
 },
 "nbformat": 4,
 "nbformat_minor": 1
}
